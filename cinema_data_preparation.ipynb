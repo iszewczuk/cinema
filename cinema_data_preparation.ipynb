{
 "cells": [
  {
   "cell_type": "markdown",
   "metadata": {
    "id": "5mNbN9nXyz85"
   },
   "source": [
    "## Libraries"
   ]
  },
  {
   "cell_type": "code",
   "execution_count": 1,
   "metadata": {
    "id": "8BjAIo63ziEt"
   },
   "outputs": [],
   "source": [
    "# Matplotlib forms basis for visualization in Python\n",
    "import matplotlib.pyplot as plt\n",
    "import numpy as np\n",
    "import pandas as pd\n",
    "from scipy import stats\n",
    "from collections import Counter\n",
    "from wordcloud import WordCloud, STOPWORDS, ImageColorGenerator\n",
    "from PIL import Image\n",
    "import plotly.express as px\n",
    "\n",
    "import seaborn as sns\n",
    "\n",
    "sns.set()\n",
    "\n",
    "# Graphics in SVG format are more sharp and legible\n",
    "%config InlineBackend.figure_format = 'svg'"
   ]
  },
  {
   "cell_type": "code",
   "execution_count": 2,
   "metadata": {},
   "outputs": [],
   "source": [
    "from sklearn.linear_model import LinearRegression\n",
    "from sklearn.preprocessing import OneHotEncoder\n",
    "from sklearn.compose import ColumnTransformer\n",
    "from sklearn.model_selection import train_test_split\n",
    "from sklearn.metrics import r2_score\n",
    "from sklearn.feature_extraction.text import CountVectorizer\n",
    "from sklearn.linear_model import LogisticRegression\n",
    "from sklearn.metrics import accuracy_score\n",
    "from sklearn.ensemble import RandomForestRegressor\n",
    "from sklearn.tree import DecisionTreeRegressor\n",
    "from sklearn.metrics import mean_squared_error\n",
    "from sklearn.linear_model import Ridge\n",
    "from sklearn.linear_model import Lasso\n",
    "from sklearn.metrics import classification_report, confusion_matrix\n",
    "from sklearn.ensemble import RandomForestClassifier\n",
    "from sklearn.neighbors import KNeighborsRegressor\n",
    "from sklearn.feature_extraction.text import TfidfVectorizer\n",
    "from sklearn.feature_extraction.text import CountVectorizer\n",
    "from sklearn.metrics.pairwise import cosine_similarity\n",
    "from sklearn.metrics.pairwise import linear_kernel\n",
    "import requests\n",
    "from bs4 import BeautifulSoup\n",
    "from sklearn.svm import SVC\n",
    "from sklearn.ensemble import RandomForestClassifier, GradientBoostingClassifier\n",
    "from imblearn.metrics import classification_report_imbalanced\n",
    "from sklearn.ensemble import RandomForestClassifier\n",
    "from sklearn.ensemble import GradientBoostingRegressor\n",
    "from sklearn.svm import SVR\n",
    "from sklearn.preprocessing import LabelEncoder\n",
    "from sklearn.tree import DecisionTreeClassifier\n",
    "from sklearn.linear_model import LogisticRegression\n",
    "from sklearn.metrics import classification_report"
   ]
  },
  {
   "cell_type": "code",
   "execution_count": 3,
   "metadata": {},
   "outputs": [],
   "source": [
    "#!pip install selenium\n",
    "from selenium import webdriver\n",
    "from selenium.webdriver.common.by import By\n",
    "from selenium.webdriver.support.ui import WebDriverWait\n",
    "from selenium.webdriver.support import expected_conditions as EC"
   ]
  },
  {
   "cell_type": "markdown",
   "metadata": {},
   "source": [
    "## Parsing description from imdb website"
   ]
  },
  {
   "cell_type": "markdown",
   "metadata": {},
   "source": [
    "dont touch this code please, you will need to wait apr. 20 hours or reload you laptop!!!"
   ]
  },
  {
   "cell_type": "code",
   "execution_count": 4,
   "metadata": {},
   "outputs": [],
   "source": [
    "#cin = pd.read_csv('cinemas.csv', index_col='Unnamed: 0')\n",
    "\n",
    "#def scrape_movie_description(link):\n",
    "#    try:\n",
    "#        driver = webdriver.Chrome(executable_path=\"chromedriver.exe\")\n",
    "#        driver.get(link)\n",
    "\n",
    "#        forms = driver.find_element(By.XPATH, \"//span[@class='sc-5f699a2-2 cxqNYC']\")\n",
    "#        text = forms.get_attribute('innerText')\n",
    "\n",
    "#        driver.quit()\n",
    "#        return text\n",
    "#    except:\n",
    "#        return 'NA'\n",
    "\n",
    "\n",
    "#cin['movie_description'] = cin['movie_imdb_link'].apply(scrape_movie_description)\n",
    "\n",
    "#cin.to_csv(\"cin_with_description.csv\", index=False)"
   ]
  },
  {
   "cell_type": "markdown",
   "metadata": {
    "id": "_6wB1hMPy4QG"
   },
   "source": [
    "## Take a first look at the data"
   ]
  },
  {
   "cell_type": "code",
   "execution_count": 5,
   "metadata": {
    "id": "6RzIaZ7buY0w"
   },
   "outputs": [],
   "source": [
    "cin = pd.read_csv('cin_with_description.csv')"
   ]
  },
  {
   "cell_type": "code",
   "execution_count": 6,
   "metadata": {
    "colab": {
     "base_uri": "https://localhost:8080/",
     "height": 352
    },
    "id": "9VBXAwAhuYqQ",
    "outputId": "4358c260-113f-4c0e-a0ba-37f71235d535"
   },
   "outputs": [
    {
     "data": {
      "text/html": [
       "<div>\n",
       "<style scoped>\n",
       "    .dataframe tbody tr th:only-of-type {\n",
       "        vertical-align: middle;\n",
       "    }\n",
       "\n",
       "    .dataframe tbody tr th {\n",
       "        vertical-align: top;\n",
       "    }\n",
       "\n",
       "    .dataframe thead th {\n",
       "        text-align: right;\n",
       "    }\n",
       "</style>\n",
       "<table border=\"1\" class=\"dataframe\">\n",
       "  <thead>\n",
       "    <tr style=\"text-align: right;\">\n",
       "      <th></th>\n",
       "      <th>color</th>\n",
       "      <th>director_name</th>\n",
       "      <th>num_critic_for_reviews</th>\n",
       "      <th>duration</th>\n",
       "      <th>director_facebook_likes</th>\n",
       "      <th>actor_3_facebook_likes</th>\n",
       "      <th>actor_2_name</th>\n",
       "      <th>actor_1_facebook_likes</th>\n",
       "      <th>gross</th>\n",
       "      <th>genres</th>\n",
       "      <th>...</th>\n",
       "      <th>budget</th>\n",
       "      <th>title_year</th>\n",
       "      <th>actor_2_facebook_likes</th>\n",
       "      <th>imdb_score</th>\n",
       "      <th>aspect_ratio</th>\n",
       "      <th>movie_facebook_likes</th>\n",
       "      <th>Unnamed: 28</th>\n",
       "      <th>war_symb_title</th>\n",
       "      <th>point_symb_title</th>\n",
       "      <th>movie_description</th>\n",
       "    </tr>\n",
       "  </thead>\n",
       "  <tbody>\n",
       "    <tr>\n",
       "      <th>0</th>\n",
       "      <td>Color</td>\n",
       "      <td>James Cameron</td>\n",
       "      <td>723.0</td>\n",
       "      <td>178.0</td>\n",
       "      <td>0.0</td>\n",
       "      <td>855.0</td>\n",
       "      <td>Joel David Moore</td>\n",
       "      <td>1000.0</td>\n",
       "      <td>760505847.0</td>\n",
       "      <td>Action|Adventure|Fantasy|Sci-Fi</td>\n",
       "      <td>...</td>\n",
       "      <td>237000000.0</td>\n",
       "      <td>2009.0</td>\n",
       "      <td>936.0</td>\n",
       "      <td>7.9</td>\n",
       "      <td>1.78</td>\n",
       "      <td>33000</td>\n",
       "      <td>NaN</td>\n",
       "      <td>4</td>\n",
       "      <td>0</td>\n",
       "      <td>A paraplegic Marine dispatched to the moon Pan...</td>\n",
       "    </tr>\n",
       "    <tr>\n",
       "      <th>1</th>\n",
       "      <td>Color</td>\n",
       "      <td>Gore Verbinski</td>\n",
       "      <td>302.0</td>\n",
       "      <td>169.0</td>\n",
       "      <td>563.0</td>\n",
       "      <td>1000.0</td>\n",
       "      <td>Orlando Bloom</td>\n",
       "      <td>40000.0</td>\n",
       "      <td>309404152.0</td>\n",
       "      <td>Action|Adventure|Fantasy</td>\n",
       "      <td>...</td>\n",
       "      <td>300000000.0</td>\n",
       "      <td>2007.0</td>\n",
       "      <td>5000.0</td>\n",
       "      <td>7.1</td>\n",
       "      <td>2.35</td>\n",
       "      <td>0</td>\n",
       "      <td>NaN</td>\n",
       "      <td>8</td>\n",
       "      <td>0</td>\n",
       "      <td>Captain Barbossa, Will Turner and Elizabeth Sw...</td>\n",
       "    </tr>\n",
       "    <tr>\n",
       "      <th>2</th>\n",
       "      <td>Color</td>\n",
       "      <td>Sam Mendes</td>\n",
       "      <td>602.0</td>\n",
       "      <td>148.0</td>\n",
       "      <td>0.0</td>\n",
       "      <td>161.0</td>\n",
       "      <td>Rory Kinnear</td>\n",
       "      <td>11000.0</td>\n",
       "      <td>200074175.0</td>\n",
       "      <td>Action|Adventure|Thriller</td>\n",
       "      <td>...</td>\n",
       "      <td>245000000.0</td>\n",
       "      <td>2015.0</td>\n",
       "      <td>393.0</td>\n",
       "      <td>6.8</td>\n",
       "      <td>2.35</td>\n",
       "      <td>85000</td>\n",
       "      <td>NaN</td>\n",
       "      <td>1</td>\n",
       "      <td>0</td>\n",
       "      <td>A cryptic message from James Bond's past sends...</td>\n",
       "    </tr>\n",
       "    <tr>\n",
       "      <th>3</th>\n",
       "      <td>Color</td>\n",
       "      <td>Christopher Nolan</td>\n",
       "      <td>813.0</td>\n",
       "      <td>164.0</td>\n",
       "      <td>22000.0</td>\n",
       "      <td>23000.0</td>\n",
       "      <td>Christian Bale</td>\n",
       "      <td>27000.0</td>\n",
       "      <td>448130642.0</td>\n",
       "      <td>Action|Thriller</td>\n",
       "      <td>...</td>\n",
       "      <td>250000000.0</td>\n",
       "      <td>2012.0</td>\n",
       "      <td>23000.0</td>\n",
       "      <td>8.5</td>\n",
       "      <td>2.35</td>\n",
       "      <td>164000</td>\n",
       "      <td>NaN</td>\n",
       "      <td>3</td>\n",
       "      <td>0</td>\n",
       "      <td>Eight years after the Joker's reign of chaos, ...</td>\n",
       "    </tr>\n",
       "    <tr>\n",
       "      <th>4</th>\n",
       "      <td>NaN</td>\n",
       "      <td>Doug Walker</td>\n",
       "      <td>NaN</td>\n",
       "      <td>NaN</td>\n",
       "      <td>131.0</td>\n",
       "      <td>NaN</td>\n",
       "      <td>Rob Walker</td>\n",
       "      <td>131.0</td>\n",
       "      <td>NaN</td>\n",
       "      <td>Documentary</td>\n",
       "      <td>...</td>\n",
       "      <td>NaN</td>\n",
       "      <td>NaN</td>\n",
       "      <td>12.0</td>\n",
       "      <td>7.1</td>\n",
       "      <td>NaN</td>\n",
       "      <td>0</td>\n",
       "      <td>NaN</td>\n",
       "      <td>9</td>\n",
       "      <td>0</td>\n",
       "      <td>NaN</td>\n",
       "    </tr>\n",
       "  </tbody>\n",
       "</table>\n",
       "<p>5 rows × 32 columns</p>\n",
       "</div>"
      ],
      "text/plain": [
       "   color      director_name  num_critic_for_reviews  duration  \\\n",
       "0  Color      James Cameron                   723.0     178.0   \n",
       "1  Color     Gore Verbinski                   302.0     169.0   \n",
       "2  Color         Sam Mendes                   602.0     148.0   \n",
       "3  Color  Christopher Nolan                   813.0     164.0   \n",
       "4    NaN        Doug Walker                     NaN       NaN   \n",
       "\n",
       "   director_facebook_likes  actor_3_facebook_likes      actor_2_name  \\\n",
       "0                      0.0                   855.0  Joel David Moore   \n",
       "1                    563.0                  1000.0     Orlando Bloom   \n",
       "2                      0.0                   161.0      Rory Kinnear   \n",
       "3                  22000.0                 23000.0    Christian Bale   \n",
       "4                    131.0                     NaN        Rob Walker   \n",
       "\n",
       "   actor_1_facebook_likes        gross                           genres  ...  \\\n",
       "0                  1000.0  760505847.0  Action|Adventure|Fantasy|Sci-Fi  ...   \n",
       "1                 40000.0  309404152.0         Action|Adventure|Fantasy  ...   \n",
       "2                 11000.0  200074175.0        Action|Adventure|Thriller  ...   \n",
       "3                 27000.0  448130642.0                  Action|Thriller  ...   \n",
       "4                   131.0          NaN                      Documentary  ...   \n",
       "\n",
       "        budget title_year actor_2_facebook_likes  imdb_score aspect_ratio  \\\n",
       "0  237000000.0     2009.0                  936.0         7.9         1.78   \n",
       "1  300000000.0     2007.0                 5000.0         7.1         2.35   \n",
       "2  245000000.0     2015.0                  393.0         6.8         2.35   \n",
       "3  250000000.0     2012.0                23000.0         8.5         2.35   \n",
       "4          NaN        NaN                   12.0         7.1          NaN   \n",
       "\n",
       "  movie_facebook_likes Unnamed: 28 war_symb_title point_symb_title  \\\n",
       "0                33000         NaN              4                0   \n",
       "1                    0         NaN              8                0   \n",
       "2                85000         NaN              1                0   \n",
       "3               164000         NaN              3                0   \n",
       "4                    0         NaN              9                0   \n",
       "\n",
       "                                   movie_description  \n",
       "0  A paraplegic Marine dispatched to the moon Pan...  \n",
       "1  Captain Barbossa, Will Turner and Elizabeth Sw...  \n",
       "2  A cryptic message from James Bond's past sends...  \n",
       "3  Eight years after the Joker's reign of chaos, ...  \n",
       "4                                                NaN  \n",
       "\n",
       "[5 rows x 32 columns]"
      ]
     },
     "execution_count": 6,
     "metadata": {},
     "output_type": "execute_result"
    }
   ],
   "source": [
    "cin.head()"
   ]
  },
  {
   "cell_type": "code",
   "execution_count": 7,
   "metadata": {},
   "outputs": [
    {
     "name": "stdout",
     "output_type": "stream",
     "text": [
      "Summary statistics for color\n",
      "Color               0.958259\n",
      "Black and White     0.041542\n",
      "Green and Yellow    0.000199\n",
      "Name: color, dtype: float64\n",
      "Summary statistics for genres\n",
      "Drama                                            0.046733\n",
      "Comedy                                           0.042376\n",
      "Comedy|Drama                                     0.037822\n",
      "Comedy|Drama|Romance                             0.037030\n",
      "Comedy|Romance                                   0.031287\n",
      "                                                   ...   \n",
      "Fantasy|Comedy|Sci-Fi                            0.000198\n",
      "Biography|Comedy|Drama|Music|Romance             0.000198\n",
      "Biography|Crime|Drama|History|Music              0.000198\n",
      "Biography|Comedy|Crime|Drama|Romance|Thriller    0.000198\n",
      "Comedy|Crime|Horror                              0.000198\n",
      "Name: genres, Length: 916, dtype: float64\n",
      "Summary statistics for language\n",
      "English       0.934696\n",
      "French        0.014490\n",
      "Spanish       0.007940\n",
      "Hindi         0.005558\n",
      "Mandarin      0.005161\n",
      "German        0.003771\n",
      "Japanese      0.003573\n",
      "Cantonese     0.002183\n",
      "Italian       0.002183\n",
      "Russian       0.002183\n",
      "Korean        0.001588\n",
      "Portuguese    0.001588\n",
      "Danish        0.000992\n",
      "Swedish       0.000992\n",
      "Arabic        0.000992\n",
      "Hebrew        0.000992\n",
      "Polish        0.000794\n",
      "Norwegian     0.000794\n",
      "Dutch         0.000794\n",
      "Persian       0.000794\n",
      "Thai          0.000595\n",
      "Chinese       0.000595\n",
      "Zulu          0.000397\n",
      "Dari          0.000397\n",
      "Icelandic     0.000397\n",
      "None          0.000397\n",
      "Aboriginal    0.000397\n",
      "Romanian      0.000397\n",
      "Indonesian    0.000397\n",
      "Tamil         0.000198\n",
      "Swahili       0.000198\n",
      "Morse         0.000198\n",
      "Greek         0.000198\n",
      "Slovenian     0.000198\n",
      "Urdu          0.000198\n",
      "Vietnamese    0.000198\n",
      "Dzongkha      0.000198\n",
      "Mongolian     0.000198\n",
      "Panjabi       0.000198\n",
      "Kannada       0.000198\n",
      "Czech         0.000198\n",
      "Filipino      0.000198\n",
      "Maya          0.000198\n",
      "Kazakh        0.000198\n",
      "Telugu        0.000198\n",
      "Hungarian     0.000198\n",
      "Bosnian       0.000198\n",
      "Aramaic       0.000198\n",
      "8             0.000198\n",
      "Name: language, dtype: float64\n",
      "Summary statistics for country\n",
      "USA             0.754609\n",
      "UK              0.088801\n",
      "France          0.030525\n",
      "Canada          0.025966\n",
      "Germany         0.019227\n",
      "                  ...   \n",
      "Aruba           0.000198\n",
      "Peru            0.000198\n",
      "Soviet Union    0.000198\n",
      "New Line        0.000198\n",
      "Philippines     0.000198\n",
      "Name: country, Length: 66, dtype: float64\n",
      "Summary statistics for content_rating\n",
      "R            0.446858\n",
      "PG-13        0.308098\n",
      "PG           0.147828\n",
      "Not Rated    0.024462\n",
      "G            0.023619\n",
      "Unrated      0.013075\n",
      "Approved     0.011598\n",
      "TV-14        0.006326\n",
      "TV-MA        0.004218\n",
      "TV-PG        0.002741\n",
      "X            0.002741\n",
      "TV-G         0.002109\n",
      "Passed       0.001898\n",
      "NC-17        0.001476\n",
      "GP           0.001265\n",
      "M            0.001054\n",
      "TV-Y         0.000211\n",
      "TV-Y7        0.000211\n",
      "USA          0.000211\n",
      "Name: content_rating, dtype: float64\n"
     ]
    }
   ],
   "source": [
    "cat_vars = ['color', 'genres', 'language', 'country', 'content_rating']\n",
    "\n",
    "for var in cat_vars:\n",
    "    print(\"Summary statistics for\", var)\n",
    "    print(cin[var].value_counts(normalize=True))"
   ]
  },
  {
   "cell_type": "code",
   "execution_count": 8,
   "metadata": {},
   "outputs": [
    {
     "data": {
      "text/plain": [
       "color                        5031\n",
       "director_name                4946\n",
       "num_critic_for_reviews       5000\n",
       "duration                     5035\n",
       "director_facebook_likes      4946\n",
       "actor_3_facebook_likes       5027\n",
       "actor_2_name                 5037\n",
       "actor_1_facebook_likes       5043\n",
       "gross                        4161\n",
       "genres                       5050\n",
       "actor_1_name                 5043\n",
       "movie_title                  5050\n",
       "num_voted_users              5050\n",
       "cast_total_facebook_likes    5050\n",
       "actor_3_name                 5027\n",
       "facenumber_in_poster         5038\n",
       "plot_keywords                4896\n",
       "movie_imdb_link              5050\n",
       "num_user_for_reviews         5029\n",
       "language                     5038\n",
       "country                      5045\n",
       "content_rating               4742\n",
       "budget                       4557\n",
       "title_year                   4942\n",
       "actor_2_facebook_likes       5037\n",
       "imdb_score                   5050\n",
       "aspect_ratio                 4721\n",
       "movie_facebook_likes         5050\n",
       "Unnamed: 28                     2\n",
       "war_symb_title               5050\n",
       "point_symb_title             5050\n",
       "movie_description            5047\n",
       "dtype: int64"
      ]
     },
     "execution_count": 8,
     "metadata": {},
     "output_type": "execute_result"
    }
   ],
   "source": [
    "cin.count()"
   ]
  },
  {
   "cell_type": "markdown",
   "metadata": {},
   "source": [
    "# Data Cleaning"
   ]
  },
  {
   "cell_type": "markdown",
   "metadata": {
    "id": "Ebp7KhzoEuxS"
   },
   "source": [
    "## Drop empty columns and not valid/duplicated rows"
   ]
  },
  {
   "cell_type": "code",
   "execution_count": 9,
   "metadata": {
    "id": "_gIJxqbBzQOU"
   },
   "outputs": [],
   "source": [
    "cin = cin.drop(['Unnamed: 28'], axis=1)"
   ]
  },
  {
   "cell_type": "code",
   "execution_count": 10,
   "metadata": {},
   "outputs": [],
   "source": [
    "cin = cin.drop(cin[cin['actor_1_facebook_likes'] < 0].index)"
   ]
  },
  {
   "cell_type": "code",
   "execution_count": 11,
   "metadata": {},
   "outputs": [],
   "source": [
    "#also we should drop duplicates\n",
    "cin = cin.drop_duplicates(subset=cin.columns.difference(['movie_title']))"
   ]
  },
  {
   "cell_type": "code",
   "execution_count": 12,
   "metadata": {},
   "outputs": [],
   "source": [
    "#we should drop raw with USA content rating\n",
    "cin = cin.drop(cin[cin['content_rating'] == 'USA'].index)"
   ]
  },
  {
   "cell_type": "code",
   "execution_count": 13,
   "metadata": {},
   "outputs": [],
   "source": [
    "#we should drop raws with movies that not exists\n",
    "cin = cin.drop(cin[cin['movie_title'] == 'A!O!U!I!E!'].index)"
   ]
  },
  {
   "cell_type": "code",
   "execution_count": 14,
   "metadata": {},
   "outputs": [],
   "source": [
    "#we should drop raws where imdb_score>10 (Sanctuary, for example with 98,0)\n",
    "cin = cin.drop(cin[cin['imdb_score'] > 10].index)"
   ]
  },
  {
   "cell_type": "code",
   "execution_count": 15,
   "metadata": {},
   "outputs": [],
   "source": [
    "#let's drop all rows where language is numerical value etc\n",
    "cin = cin[pd.to_numeric(cin['language'], errors='coerce').isna()]"
   ]
  },
  {
   "cell_type": "markdown",
   "metadata": {
    "id": "PHOF4D6EyxBl"
   },
   "source": [
    "## How many missing data points do we have?"
   ]
  },
  {
   "cell_type": "code",
   "execution_count": 16,
   "metadata": {
    "colab": {
     "base_uri": "https://localhost:8080/"
    },
    "id": "wmHucg6GwRzH",
    "outputId": "2d7dd5c1-0428-4ccb-f84f-f84ddab6813a"
   },
   "outputs": [
    {
     "data": {
      "text/plain": [
       "color                         19\n",
       "director_name                103\n",
       "num_critic_for_reviews        49\n",
       "duration                      15\n",
       "director_facebook_likes      103\n",
       "actor_3_facebook_likes        23\n",
       "actor_2_name                  13\n",
       "actor_1_facebook_likes         7\n",
       "gross                        873\n",
       "genres                         0\n",
       "actor_1_name                   7\n",
       "movie_title                    0\n",
       "num_voted_users                0\n",
       "cast_total_facebook_likes      0\n",
       "actor_3_name                  23\n",
       "facenumber_in_poster          12\n",
       "plot_keywords                152\n",
       "movie_imdb_link                0\n",
       "num_user_for_reviews          21\n",
       "language                      12\n",
       "country                        5\n",
       "content_rating               300\n",
       "budget                       487\n",
       "title_year                   107\n",
       "actor_2_facebook_likes        13\n",
       "imdb_score                     0\n",
       "aspect_ratio                 327\n",
       "movie_facebook_likes           0\n",
       "war_symb_title                 0\n",
       "point_symb_title               0\n",
       "movie_description              2\n",
       "dtype: int64"
      ]
     },
     "execution_count": 16,
     "metadata": {},
     "output_type": "execute_result"
    }
   ],
   "source": [
    "# get the number of missing data points per column\n",
    "missing_values_count = cin.isnull().sum()\n",
    "\n",
    "# look at the # of missing points in the first ten columns\n",
    "missing_values_count[0:]"
   ]
  },
  {
   "cell_type": "code",
   "execution_count": 17,
   "metadata": {
    "colab": {
     "base_uri": "https://localhost:8080/"
    },
    "id": "-Qck7geEykrS",
    "outputId": "86237c21-f9e5-44a4-99db-818b44d59533"
   },
   "outputs": [
    {
     "name": "stdout",
     "output_type": "stream",
     "text": [
      "1.725551459908203\n"
     ]
    }
   ],
   "source": [
    "total_cells = np.product(cin.shape)\n",
    "total_missing = missing_values_count.sum()\n",
    "\n",
    "# percent of data that is missing\n",
    "percent_missing = (total_missing/total_cells) * 100\n",
    "print(percent_missing)"
   ]
  },
  {
   "cell_type": "code",
   "execution_count": 18,
   "metadata": {},
   "outputs": [
    {
     "data": {
      "text/plain": [
       "4997"
      ]
     },
     "execution_count": 18,
     "metadata": {},
     "output_type": "execute_result"
    }
   ],
   "source": [
    "cin.shape[0]"
   ]
  },
  {
   "cell_type": "markdown",
   "metadata": {},
   "source": [
    "## let's drop lines where too much missing values"
   ]
  },
  {
   "cell_type": "markdown",
   "metadata": {},
   "source": [
    "drop rows where > 15% missing values"
   ]
  },
  {
   "cell_type": "code",
   "execution_count": 19,
   "metadata": {},
   "outputs": [],
   "source": [
    "cin = cin.drop(cin[(cin.isnull().sum(axis = 1)/cin.shape[1])*100 > 15].index)"
   ]
  },
  {
   "cell_type": "code",
   "execution_count": 20,
   "metadata": {},
   "outputs": [
    {
     "data": {
      "text/plain": [
       "4854"
      ]
     },
     "execution_count": 20,
     "metadata": {},
     "output_type": "execute_result"
    }
   ],
   "source": [
    "cin.shape[0]"
   ]
  },
  {
   "cell_type": "markdown",
   "metadata": {},
   "source": [
    "## let's drop lines where gross is missing, since it's our target value"
   ]
  },
  {
   "cell_type": "code",
   "execution_count": 22,
   "metadata": {},
   "outputs": [],
   "source": [
    "cin.dropna(subset=['gross'], inplace=True)"
   ]
  },
  {
   "cell_type": "markdown",
   "metadata": {},
   "source": [
    "## Content rating standardization"
   ]
  },
  {
   "cell_type": "code",
   "execution_count": 23,
   "metadata": {},
   "outputs": [],
   "source": [
    "cin['content_rating'] = cin['content_rating'].replace('Unrated', 'Not Rated')"
   ]
  },
  {
   "cell_type": "code",
   "execution_count": 24,
   "metadata": {},
   "outputs": [],
   "source": [
    "cin['content_rating'] = cin['content_rating'].replace('TV-14', 'PG-13')"
   ]
  },
  {
   "cell_type": "code",
   "execution_count": 25,
   "metadata": {},
   "outputs": [],
   "source": [
    "cin['content_rating'] = cin['content_rating'].replace('TV-G', 'G')"
   ]
  },
  {
   "cell_type": "code",
   "execution_count": 26,
   "metadata": {},
   "outputs": [],
   "source": [
    "cin['content_rating'] = cin['content_rating'].replace('TV-PG', 'PG')"
   ]
  },
  {
   "cell_type": "code",
   "execution_count": 27,
   "metadata": {},
   "outputs": [],
   "source": [
    "cin['content_rating'] = cin['content_rating'].replace('X', 'NC-17')"
   ]
  },
  {
   "cell_type": "code",
   "execution_count": 28,
   "metadata": {},
   "outputs": [],
   "source": [
    "cin['content_rating'] = cin['content_rating'].replace('M', 'R')"
   ]
  },
  {
   "cell_type": "code",
   "execution_count": 29,
   "metadata": {},
   "outputs": [],
   "source": [
    "cin['content_rating'] = cin['content_rating'].replace('GP', 'PG')"
   ]
  },
  {
   "cell_type": "code",
   "execution_count": 30,
   "metadata": {},
   "outputs": [],
   "source": [
    "cin['content_rating'] = cin['content_rating'].replace('TV-MA', 'NC-17')"
   ]
  },
  {
   "cell_type": "code",
   "execution_count": 31,
   "metadata": {},
   "outputs": [],
   "source": [
    "cin['content_rating'] = cin['content_rating'].replace('TV-Y', 'G')"
   ]
  },
  {
   "cell_type": "code",
   "execution_count": 32,
   "metadata": {},
   "outputs": [],
   "source": [
    "cin['content_rating'] = cin['content_rating'].replace('TV-Y7', 'G')"
   ]
  },
  {
   "cell_type": "code",
   "execution_count": 33,
   "metadata": {},
   "outputs": [],
   "source": [
    "cin['content_rating'] = cin['content_rating'].replace('Passed', 'Not Rated')"
   ]
  },
  {
   "cell_type": "code",
   "execution_count": 34,
   "metadata": {
    "scrolled": false
   },
   "outputs": [
    {
     "data": {
      "text/plain": [
       "color                          2\n",
       "director_name                  3\n",
       "num_critic_for_reviews         2\n",
       "duration                       2\n",
       "director_facebook_likes        3\n",
       "actor_3_facebook_likes         7\n",
       "actor_2_name                   1\n",
       "actor_1_facebook_likes         0\n",
       "gross                          0\n",
       "genres                         0\n",
       "actor_1_name                   0\n",
       "movie_title                    0\n",
       "num_voted_users                0\n",
       "cast_total_facebook_likes      0\n",
       "actor_3_name                   7\n",
       "facenumber_in_poster           7\n",
       "plot_keywords                 37\n",
       "movie_imdb_link                0\n",
       "num_user_for_reviews           0\n",
       "language                       3\n",
       "country                        0\n",
       "content_rating                60\n",
       "budget                       264\n",
       "title_year                     3\n",
       "actor_2_facebook_likes         1\n",
       "imdb_score                     0\n",
       "aspect_ratio                 100\n",
       "movie_facebook_likes           0\n",
       "war_symb_title                 0\n",
       "point_symb_title               0\n",
       "movie_description              0\n",
       "dtype: int64"
      ]
     },
     "execution_count": 34,
     "metadata": {},
     "output_type": "execute_result"
    }
   ],
   "source": [
    "# get the number of missing data points per column\n",
    "missing_values_count = cin.isnull().sum()\n",
    "\n",
    "# look at the # of missing points in the first ten columns\n",
    "missing_values_count[0:]"
   ]
  },
  {
   "cell_type": "markdown",
   "metadata": {},
   "source": [
    "## trying to fill in missing data using other data"
   ]
  },
  {
   "cell_type": "code",
   "execution_count": 35,
   "metadata": {},
   "outputs": [],
   "source": [
    "df = cin"
   ]
  },
  {
   "cell_type": "markdown",
   "metadata": {},
   "source": [
    "## budget"
   ]
  },
  {
   "cell_type": "code",
   "execution_count": 36,
   "metadata": {},
   "outputs": [],
   "source": [
    "for index, row in df.iterrows():\n",
    "    if pd.isnull(row['budget']):\n",
    "        director_name = row['director_name']\n",
    "        similar_row = df[(df['director_name'] == director_name) & (~df['budget'].isnull())].head(1)\n",
    "        if not similar_row.empty:\n",
    "            budget_value = similar_row['budget'].values[0]\n",
    "            df.loc[index, 'budget'] = budget_value"
   ]
  },
  {
   "cell_type": "code",
   "execution_count": 37,
   "metadata": {},
   "outputs": [
    {
     "data": {
      "text/plain": [
       "color                          2\n",
       "director_name                  3\n",
       "num_critic_for_reviews         2\n",
       "duration                       2\n",
       "director_facebook_likes        3\n",
       "actor_3_facebook_likes         7\n",
       "actor_2_name                   1\n",
       "actor_1_facebook_likes         0\n",
       "gross                          0\n",
       "genres                         0\n",
       "actor_1_name                   0\n",
       "movie_title                    0\n",
       "num_voted_users                0\n",
       "cast_total_facebook_likes      0\n",
       "actor_3_name                   7\n",
       "facenumber_in_poster           7\n",
       "plot_keywords                 37\n",
       "movie_imdb_link                0\n",
       "num_user_for_reviews           0\n",
       "language                       3\n",
       "country                        0\n",
       "content_rating                60\n",
       "budget                       129\n",
       "title_year                     3\n",
       "actor_2_facebook_likes         1\n",
       "imdb_score                     0\n",
       "aspect_ratio                 100\n",
       "movie_facebook_likes           0\n",
       "war_symb_title                 0\n",
       "point_symb_title               0\n",
       "movie_description              0\n",
       "dtype: int64"
      ]
     },
     "execution_count": 37,
     "metadata": {},
     "output_type": "execute_result"
    }
   ],
   "source": [
    "missing_values_count = df.isnull().sum()\n",
    "missing_values_count[0:]"
   ]
  },
  {
   "cell_type": "code",
   "execution_count": 38,
   "metadata": {},
   "outputs": [],
   "source": [
    "for index, row in df.iterrows():\n",
    "    if pd.isnull(row['budget']):\n",
    "        title_year = row['title_year']\n",
    "        similar_rows = df[(df['title_year'] == title_year) & (~df['budget'].isnull())]\n",
    "        if not similar_rows.empty:\n",
    "            average_budget = similar_rows['budget'].mean()\n",
    "            df.loc[index, 'budget'] = average_budget"
   ]
  },
  {
   "cell_type": "code",
   "execution_count": 39,
   "metadata": {},
   "outputs": [
    {
     "data": {
      "text/plain": [
       "color                          2\n",
       "director_name                  3\n",
       "num_critic_for_reviews         2\n",
       "duration                       2\n",
       "director_facebook_likes        3\n",
       "actor_3_facebook_likes         7\n",
       "actor_2_name                   1\n",
       "actor_1_facebook_likes         0\n",
       "gross                          0\n",
       "genres                         0\n",
       "actor_1_name                   0\n",
       "movie_title                    0\n",
       "num_voted_users                0\n",
       "cast_total_facebook_likes      0\n",
       "actor_3_name                   7\n",
       "facenumber_in_poster           7\n",
       "plot_keywords                 37\n",
       "movie_imdb_link                0\n",
       "num_user_for_reviews           0\n",
       "language                       3\n",
       "country                        0\n",
       "content_rating                60\n",
       "budget                         3\n",
       "title_year                     3\n",
       "actor_2_facebook_likes         1\n",
       "imdb_score                     0\n",
       "aspect_ratio                 100\n",
       "movie_facebook_likes           0\n",
       "war_symb_title                 0\n",
       "point_symb_title               0\n",
       "movie_description              0\n",
       "dtype: int64"
      ]
     },
     "execution_count": 39,
     "metadata": {},
     "output_type": "execute_result"
    }
   ],
   "source": [
    "missing_values_count = df.isnull().sum()\n",
    "missing_values_count[0:]"
   ]
  },
  {
   "cell_type": "markdown",
   "metadata": {},
   "source": [
    "## filling in color"
   ]
  },
  {
   "cell_type": "code",
   "execution_count": 40,
   "metadata": {},
   "outputs": [],
   "source": [
    "for index, row in df.iterrows():\n",
    "    if pd.isnull(row['color']):\n",
    "        title_year = row['title_year']\n",
    "        similar_row = df[(df['title_year'] == title_year) & (~df['color'].isnull())].head(1)\n",
    "        if not similar_row.empty:\n",
    "            color_value = similar_row['color'].values[0]\n",
    "            df.loc[index, 'color'] = color_value"
   ]
  },
  {
   "cell_type": "code",
   "execution_count": 41,
   "metadata": {},
   "outputs": [
    {
     "data": {
      "text/plain": [
       "color                          0\n",
       "director_name                  3\n",
       "num_critic_for_reviews         2\n",
       "duration                       2\n",
       "director_facebook_likes        3\n",
       "actor_3_facebook_likes         7\n",
       "actor_2_name                   1\n",
       "actor_1_facebook_likes         0\n",
       "gross                          0\n",
       "genres                         0\n",
       "actor_1_name                   0\n",
       "movie_title                    0\n",
       "num_voted_users                0\n",
       "cast_total_facebook_likes      0\n",
       "actor_3_name                   7\n",
       "facenumber_in_poster           7\n",
       "plot_keywords                 37\n",
       "movie_imdb_link                0\n",
       "num_user_for_reviews           0\n",
       "language                       3\n",
       "country                        0\n",
       "content_rating                60\n",
       "budget                         3\n",
       "title_year                     3\n",
       "actor_2_facebook_likes         1\n",
       "imdb_score                     0\n",
       "aspect_ratio                 100\n",
       "movie_facebook_likes           0\n",
       "war_symb_title                 0\n",
       "point_symb_title               0\n",
       "movie_description              0\n",
       "dtype: int64"
      ]
     },
     "execution_count": 41,
     "metadata": {},
     "output_type": "execute_result"
    }
   ],
   "source": [
    "missing_values_count = df.isnull().sum()\n",
    "missing_values_count[0:]"
   ]
  },
  {
   "cell_type": "markdown",
   "metadata": {},
   "source": [
    "## facenumber in poster"
   ]
  },
  {
   "cell_type": "code",
   "execution_count": 42,
   "metadata": {},
   "outputs": [],
   "source": [
    "for index, row in df.iterrows():\n",
    "    if pd.isnull(row['facenumber_in_poster']):\n",
    "        actor_names = [row['actor_1_name'], row['actor_2_name'], row['actor_3_name']]\n",
    "        face_count = sum(pd.notnull(actor_name) for actor_name in actor_names)\n",
    "        df.loc[index, 'facenumber_in_poster'] = face_count"
   ]
  },
  {
   "cell_type": "code",
   "execution_count": 43,
   "metadata": {},
   "outputs": [
    {
     "data": {
      "text/plain": [
       "color                          0\n",
       "director_name                  3\n",
       "num_critic_for_reviews         2\n",
       "duration                       2\n",
       "director_facebook_likes        3\n",
       "actor_3_facebook_likes         7\n",
       "actor_2_name                   1\n",
       "actor_1_facebook_likes         0\n",
       "gross                          0\n",
       "genres                         0\n",
       "actor_1_name                   0\n",
       "movie_title                    0\n",
       "num_voted_users                0\n",
       "cast_total_facebook_likes      0\n",
       "actor_3_name                   7\n",
       "facenumber_in_poster           0\n",
       "plot_keywords                 37\n",
       "movie_imdb_link                0\n",
       "num_user_for_reviews           0\n",
       "language                       3\n",
       "country                        0\n",
       "content_rating                60\n",
       "budget                         3\n",
       "title_year                     3\n",
       "actor_2_facebook_likes         1\n",
       "imdb_score                     0\n",
       "aspect_ratio                 100\n",
       "movie_facebook_likes           0\n",
       "war_symb_title                 0\n",
       "point_symb_title               0\n",
       "movie_description              0\n",
       "dtype: int64"
      ]
     },
     "execution_count": 43,
     "metadata": {},
     "output_type": "execute_result"
    }
   ],
   "source": [
    "missing_values_count = df.isnull().sum()\n",
    "missing_values_count[0:]"
   ]
  },
  {
   "cell_type": "markdown",
   "metadata": {},
   "source": [
    "## content_rating"
   ]
  },
  {
   "cell_type": "code",
   "execution_count": 44,
   "metadata": {},
   "outputs": [],
   "source": [
    "reference_movies = df.dropna(subset=['content_rating', 'budget'])\n",
    "\n",
    "budget_ranges = [(0, 1_000_000), (1_000_000, 10_000_000), (10_000_000, np.inf)]\n",
    "for budget_range in budget_ranges:\n",
    "    min_budget, max_budget = budget_range\n",
    "\n",
    "    most_common_rating = reference_movies[\n",
    "        (reference_movies['budget'] >= min_budget) &\n",
    "        (reference_movies['budget'] < max_budget)\n",
    "    ]['content_rating'].mode().iloc[0]\n",
    "\n",
    "    missing_ratings = df[\n",
    "        (df['budget'] >= min_budget) &\n",
    "        (df['budget'] < max_budget) &\n",
    "        df['content_rating'].isnull()\n",
    "    ]\n",
    "    df.loc[missing_ratings.index, 'content_rating'] = most_common_rating"
   ]
  },
  {
   "cell_type": "code",
   "execution_count": 45,
   "metadata": {},
   "outputs": [
    {
     "data": {
      "text/plain": [
       "color                          0\n",
       "director_name                  3\n",
       "num_critic_for_reviews         2\n",
       "duration                       2\n",
       "director_facebook_likes        3\n",
       "actor_3_facebook_likes         7\n",
       "actor_2_name                   1\n",
       "actor_1_facebook_likes         0\n",
       "gross                          0\n",
       "genres                         0\n",
       "actor_1_name                   0\n",
       "movie_title                    0\n",
       "num_voted_users                0\n",
       "cast_total_facebook_likes      0\n",
       "actor_3_name                   7\n",
       "facenumber_in_poster           0\n",
       "plot_keywords                 37\n",
       "movie_imdb_link                0\n",
       "num_user_for_reviews           0\n",
       "language                       3\n",
       "country                        0\n",
       "content_rating                 0\n",
       "budget                         3\n",
       "title_year                     3\n",
       "actor_2_facebook_likes         1\n",
       "imdb_score                     0\n",
       "aspect_ratio                 100\n",
       "movie_facebook_likes           0\n",
       "war_symb_title                 0\n",
       "point_symb_title               0\n",
       "movie_description              0\n",
       "dtype: int64"
      ]
     },
     "execution_count": 45,
     "metadata": {},
     "output_type": "execute_result"
    }
   ],
   "source": [
    "missing_values_count = df.isnull().sum()\n",
    "missing_values_count[0:]"
   ]
  },
  {
   "cell_type": "markdown",
   "metadata": {},
   "source": [
    "## plot_keywords"
   ]
  },
  {
   "cell_type": "code",
   "execution_count": 46,
   "metadata": {},
   "outputs": [],
   "source": [
    "genre_keywords = {\n",
    "    'Action': ['action', 'adventure', 'fight', 'explosion'],\n",
    "    'Comedy': ['comedy', 'funny', 'humor', 'laugh'],\n",
    "    'Drama': ['drama', 'emotional', 'relationship', 'character'],\n",
    "    'Thriller': ['thriller', 'suspense', 'mystery', 'twist'],\n",
    "    'Romance': ['romance', 'love', 'heartbreak', 'passion'],\n",
    "    'Sci-Fi': ['sci-fi', 'technology', 'future', 'aliens'],\n",
    "    'Horror': ['horror', 'scary', 'fear', 'supernatural'],\n",
    "    'Fantasy': ['fantasy', 'magic', 'mythical', 'adventure'],\n",
    "    'Mystery': ['mystery', 'investigation', 'detective', 'clue'],\n",
    "    'Animation': ['animation', 'cartoon', 'fun', 'family']\n",
    "}"
   ]
  },
  {
   "cell_type": "code",
   "execution_count": 47,
   "metadata": {},
   "outputs": [],
   "source": [
    "for index, row in df.iterrows():\n",
    "    if pd.isnull(row['plot_keywords']):\n",
    "        genre = row['genres']\n",
    "        if genre in genre_keywords:\n",
    "            keywords = genre_keywords[genre]\n",
    "            df.loc[index, 'plot_keywords'] = ', '.join(keywords)"
   ]
  },
  {
   "cell_type": "code",
   "execution_count": 48,
   "metadata": {},
   "outputs": [
    {
     "data": {
      "text/plain": [
       "color                          0\n",
       "director_name                  3\n",
       "num_critic_for_reviews         2\n",
       "duration                       2\n",
       "director_facebook_likes        3\n",
       "actor_3_facebook_likes         7\n",
       "actor_2_name                   1\n",
       "actor_1_facebook_likes         0\n",
       "gross                          0\n",
       "genres                         0\n",
       "actor_1_name                   0\n",
       "movie_title                    0\n",
       "num_voted_users                0\n",
       "cast_total_facebook_likes      0\n",
       "actor_3_name                   7\n",
       "facenumber_in_poster           0\n",
       "plot_keywords                 27\n",
       "movie_imdb_link                0\n",
       "num_user_for_reviews           0\n",
       "language                       3\n",
       "country                        0\n",
       "content_rating                 0\n",
       "budget                         3\n",
       "title_year                     3\n",
       "actor_2_facebook_likes         1\n",
       "imdb_score                     0\n",
       "aspect_ratio                 100\n",
       "movie_facebook_likes           0\n",
       "war_symb_title                 0\n",
       "point_symb_title               0\n",
       "movie_description              0\n",
       "dtype: int64"
      ]
     },
     "execution_count": 48,
     "metadata": {},
     "output_type": "execute_result"
    }
   ],
   "source": [
    "missing_values_count = df.isnull().sum()\n",
    "missing_values_count[0:]"
   ]
  },
  {
   "cell_type": "markdown",
   "metadata": {},
   "source": [
    "## language"
   ]
  },
  {
   "cell_type": "code",
   "execution_count": 49,
   "metadata": {},
   "outputs": [],
   "source": [
    "for index, row in df.iterrows():\n",
    "    if pd.isnull(row['language']):\n",
    "        country = row['country']\n",
    "        matching_country = df[df['country'] == country]\n",
    "        non_null_languages = matching_country['language'].dropna()\n",
    "        if non_null_languages.empty:\n",
    "            continue\n",
    "        language = non_null_languages.iloc[0]\n",
    "        df.loc[index, 'language'] = language"
   ]
  },
  {
   "cell_type": "code",
   "execution_count": 50,
   "metadata": {},
   "outputs": [
    {
     "data": {
      "text/plain": [
       "color                          0\n",
       "director_name                  3\n",
       "num_critic_for_reviews         2\n",
       "duration                       2\n",
       "director_facebook_likes        3\n",
       "actor_3_facebook_likes         7\n",
       "actor_2_name                   1\n",
       "actor_1_facebook_likes         0\n",
       "gross                          0\n",
       "genres                         0\n",
       "actor_1_name                   0\n",
       "movie_title                    0\n",
       "num_voted_users                0\n",
       "cast_total_facebook_likes      0\n",
       "actor_3_name                   7\n",
       "facenumber_in_poster           0\n",
       "plot_keywords                 27\n",
       "movie_imdb_link                0\n",
       "num_user_for_reviews           0\n",
       "language                       0\n",
       "country                        0\n",
       "content_rating                 0\n",
       "budget                         3\n",
       "title_year                     3\n",
       "actor_2_facebook_likes         1\n",
       "imdb_score                     0\n",
       "aspect_ratio                 100\n",
       "movie_facebook_likes           0\n",
       "war_symb_title                 0\n",
       "point_symb_title               0\n",
       "movie_description              0\n",
       "dtype: int64"
      ]
     },
     "execution_count": 50,
     "metadata": {},
     "output_type": "execute_result"
    }
   ],
   "source": [
    "missing_values_count = df.isnull().sum()\n",
    "missing_values_count[0:]"
   ]
  },
  {
   "cell_type": "markdown",
   "metadata": {},
   "source": [
    "## num_critic_for_reviews\n",
    "\n",
    "(do we really need now regression here?)"
   ]
  },
  {
   "cell_type": "code",
   "execution_count": 51,
   "metadata": {},
   "outputs": [],
   "source": [
    "for index, row in df.iterrows():\n",
    "    if pd.isnull(row['num_critic_for_reviews']):\n",
    "        movie_likes = row['movie_facebook_likes']\n",
    "        df_subset = df[df['movie_facebook_likes'] == movie_likes]\n",
    "        non_null_reviews = df_subset['num_critic_for_reviews'].dropna()\n",
    "        if non_null_reviews.empty:\n",
    "            continue\n",
    "        num_reviews = non_null_reviews.mean()\n",
    "        df.loc[index, 'num_critic_for_reviews'] = num_reviews"
   ]
  },
  {
   "cell_type": "code",
   "execution_count": 52,
   "metadata": {},
   "outputs": [
    {
     "data": {
      "text/plain": [
       "color                          0\n",
       "director_name                  3\n",
       "num_critic_for_reviews         1\n",
       "duration                       2\n",
       "director_facebook_likes        3\n",
       "actor_3_facebook_likes         7\n",
       "actor_2_name                   1\n",
       "actor_1_facebook_likes         0\n",
       "gross                          0\n",
       "genres                         0\n",
       "actor_1_name                   0\n",
       "movie_title                    0\n",
       "num_voted_users                0\n",
       "cast_total_facebook_likes      0\n",
       "actor_3_name                   7\n",
       "facenumber_in_poster           0\n",
       "plot_keywords                 27\n",
       "movie_imdb_link                0\n",
       "num_user_for_reviews           0\n",
       "language                       0\n",
       "country                        0\n",
       "content_rating                 0\n",
       "budget                         3\n",
       "title_year                     3\n",
       "actor_2_facebook_likes         1\n",
       "imdb_score                     0\n",
       "aspect_ratio                 100\n",
       "movie_facebook_likes           0\n",
       "war_symb_title                 0\n",
       "point_symb_title               0\n",
       "movie_description              0\n",
       "dtype: int64"
      ]
     },
     "execution_count": 52,
     "metadata": {},
     "output_type": "execute_result"
    }
   ],
   "source": [
    "missing_values_count = df.isnull().sum()\n",
    "missing_values_count[0:]"
   ]
  },
  {
   "cell_type": "markdown",
   "metadata": {},
   "source": [
    "# Filling in missing data"
   ]
  },
  {
   "cell_type": "markdown",
   "metadata": {},
   "source": [
    "## Lets try to fill out missing numeric values in data using median"
   ]
  },
  {
   "cell_type": "code",
   "execution_count": 53,
   "metadata": {},
   "outputs": [],
   "source": [
    "numeric_cols = df.select_dtypes(include=['float64', 'int64'])\n",
    "df[numeric_cols.columns] = numeric_cols.fillna(numeric_cols.median())"
   ]
  },
  {
   "cell_type": "code",
   "execution_count": 54,
   "metadata": {},
   "outputs": [
    {
     "data": {
      "text/plain": [
       "color                         0\n",
       "director_name                 3\n",
       "num_critic_for_reviews        0\n",
       "duration                      0\n",
       "director_facebook_likes       0\n",
       "actor_3_facebook_likes        0\n",
       "actor_2_name                  1\n",
       "actor_1_facebook_likes        0\n",
       "gross                         0\n",
       "genres                        0\n",
       "actor_1_name                  0\n",
       "movie_title                   0\n",
       "num_voted_users               0\n",
       "cast_total_facebook_likes     0\n",
       "actor_3_name                  7\n",
       "facenumber_in_poster          0\n",
       "plot_keywords                27\n",
       "movie_imdb_link               0\n",
       "num_user_for_reviews          0\n",
       "language                      0\n",
       "country                       0\n",
       "content_rating                0\n",
       "budget                        0\n",
       "title_year                    0\n",
       "actor_2_facebook_likes        0\n",
       "imdb_score                    0\n",
       "aspect_ratio                  0\n",
       "movie_facebook_likes          0\n",
       "war_symb_title                0\n",
       "point_symb_title              0\n",
       "movie_description             0\n",
       "dtype: int64"
      ]
     },
     "execution_count": 54,
     "metadata": {},
     "output_type": "execute_result"
    }
   ],
   "source": [
    "missing_values_count = df.isnull().sum()\n",
    "missing_values_count[0:]"
   ]
  },
  {
   "cell_type": "code",
   "execution_count": 55,
   "metadata": {},
   "outputs": [
    {
     "name": "stdout",
     "output_type": "stream",
     "text": [
      "0.029774264066380937\n"
     ]
    }
   ],
   "source": [
    "total_cells = np.product(df.shape)\n",
    "total_missing = missing_values_count.sum()\n",
    "\n",
    "percent_missing = (total_missing/total_cells) * 100\n",
    "print(percent_missing)"
   ]
  },
  {
   "cell_type": "markdown",
   "metadata": {},
   "source": [
    "## lets try to fill in cat val using mode"
   ]
  },
  {
   "cell_type": "code",
   "execution_count": 56,
   "metadata": {},
   "outputs": [],
   "source": [
    "for col in df.columns:\n",
    "    if df[col].dtype == 'object':\n",
    "        df[col].fillna(df[col].mode()[0], inplace=True)"
   ]
  },
  {
   "cell_type": "code",
   "execution_count": 57,
   "metadata": {},
   "outputs": [
    {
     "data": {
      "text/plain": [
       "color                        0\n",
       "director_name                0\n",
       "num_critic_for_reviews       0\n",
       "duration                     0\n",
       "director_facebook_likes      0\n",
       "actor_3_facebook_likes       0\n",
       "actor_2_name                 0\n",
       "actor_1_facebook_likes       0\n",
       "gross                        0\n",
       "genres                       0\n",
       "actor_1_name                 0\n",
       "movie_title                  0\n",
       "num_voted_users              0\n",
       "cast_total_facebook_likes    0\n",
       "actor_3_name                 0\n",
       "facenumber_in_poster         0\n",
       "plot_keywords                0\n",
       "movie_imdb_link              0\n",
       "num_user_for_reviews         0\n",
       "language                     0\n",
       "country                      0\n",
       "content_rating               0\n",
       "budget                       0\n",
       "title_year                   0\n",
       "actor_2_facebook_likes       0\n",
       "imdb_score                   0\n",
       "aspect_ratio                 0\n",
       "movie_facebook_likes         0\n",
       "war_symb_title               0\n",
       "point_symb_title             0\n",
       "movie_description            0\n",
       "dtype: int64"
      ]
     },
     "execution_count": 57,
     "metadata": {},
     "output_type": "execute_result"
    }
   ],
   "source": [
    "# get the number of missing data points per column\n",
    "missing_values_count = df.isnull().sum()\n",
    "\n",
    "# look at the # of missing points in the first ten columns\n",
    "missing_values_count[0:]"
   ]
  },
  {
   "cell_type": "code",
   "execution_count": 58,
   "metadata": {},
   "outputs": [
    {
     "name": "stdout",
     "output_type": "stream",
     "text": [
      "0.0\n"
     ]
    }
   ],
   "source": [
    "total_cells = np.product(df.shape)\n",
    "total_missing = missing_values_count.sum()\n",
    "\n",
    "percent_missing = (total_missing/total_cells) * 100\n",
    "print(percent_missing)"
   ]
  },
  {
   "cell_type": "markdown",
   "metadata": {},
   "source": [
    "## splitting genres"
   ]
  },
  {
   "cell_type": "code",
   "execution_count": 59,
   "metadata": {},
   "outputs": [],
   "source": [
    "df['genres_split'] = df['genres'].apply(lambda x: x.split('|'))"
   ]
  },
  {
   "cell_type": "code",
   "execution_count": 60,
   "metadata": {},
   "outputs": [],
   "source": [
    "df.to_csv(\"cin_prep.csv\", index=False)"
   ]
  }
 ],
 "metadata": {
  "colab": {
   "collapsed_sections": [
    "0J80Wl33GsNi"
   ],
   "provenance": []
  },
  "kernelspec": {
   "display_name": "Python 3 (ipykernel)",
   "language": "python",
   "name": "python3"
  },
  "language_info": {
   "codemirror_mode": {
    "name": "ipython",
    "version": 3
   },
   "file_extension": ".py",
   "mimetype": "text/x-python",
   "name": "python",
   "nbconvert_exporter": "python",
   "pygments_lexer": "ipython3",
   "version": "3.10.9"
  }
 },
 "nbformat": 4,
 "nbformat_minor": 1
}
