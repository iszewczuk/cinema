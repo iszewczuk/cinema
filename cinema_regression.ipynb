{
 "cells": [
  {
   "cell_type": "markdown",
   "metadata": {
    "id": "5mNbN9nXyz85"
   },
   "source": [
    "## Libraries"
   ]
  },
  {
   "cell_type": "code",
   "execution_count": 1,
   "metadata": {
    "id": "8BjAIo63ziEt"
   },
   "outputs": [],
   "source": [
    "# Matplotlib forms basis for visualization in Python\n",
    "import matplotlib.pyplot as plt\n",
    "import numpy as np\n",
    "import pandas as pd\n",
    "from scipy import stats\n",
    "from collections import Counter\n",
    "from wordcloud import WordCloud, STOPWORDS, ImageColorGenerator\n",
    "from PIL import Image\n",
    "import plotly.express as px\n",
    "import xgboost as xgb\n",
    "\n",
    "import seaborn as sns\n",
    "\n",
    "sns.set()\n",
    "\n",
    "# Graphics in SVG format are more sharp and legible\n",
    "%config InlineBackend.figure_format = 'svg'"
   ]
  },
  {
   "cell_type": "code",
   "execution_count": 2,
   "metadata": {},
   "outputs": [],
   "source": [
    "from fast_ml.model_development import train_valid_test_split"
   ]
  },
  {
   "cell_type": "code",
   "execution_count": 3,
   "metadata": {},
   "outputs": [],
   "source": [
    "from sklearn.linear_model import LinearRegression\n",
    "from sklearn.preprocessing import OneHotEncoder\n",
    "from sklearn.compose import ColumnTransformer\n",
    "from sklearn.model_selection import train_test_split\n",
    "from sklearn.metrics import r2_score\n",
    "from sklearn.feature_extraction.text import CountVectorizer\n",
    "from sklearn.linear_model import LogisticRegression\n",
    "from sklearn.metrics import accuracy_score\n",
    "from sklearn.ensemble import RandomForestRegressor\n",
    "from sklearn.preprocessing import StandardScaler\n",
    "from sklearn.model_selection import cross_val_score\n",
    "from sklearn.model_selection import GridSearchCV\n",
    "#from lightgbm import LGBMRegressor\n",
    "from sklearn.tree import DecisionTreeRegressor\n",
    "from sklearn.metrics import mean_squared_error\n",
    "from sklearn.linear_model import Ridge\n",
    "from sklearn.linear_model import Lasso\n",
    "from sklearn.metrics import classification_report, confusion_matrix\n",
    "from sklearn.ensemble import RandomForestClassifier\n",
    "from sklearn.neighbors import KNeighborsRegressor\n",
    "from sklearn.feature_extraction.text import TfidfVectorizer\n",
    "from sklearn.metrics import mean_absolute_percentage_error\n",
    "from sklearn.feature_extraction.text import CountVectorizer\n",
    "from sklearn.metrics.pairwise import cosine_similarity\n",
    "from sklearn.metrics.pairwise import linear_kernel\n",
    "from sklearn.feature_extraction import FeatureHasher\n",
    "from sklearn.feature_extraction import FeatureHasher\n",
    "from sklearn.metrics import mean_squared_error, r2_score, mean_absolute_error\n",
    "import requests\n",
    "from bs4 import BeautifulSoup\n",
    "from sklearn.svm import SVC\n",
    "from sklearn.ensemble import RandomForestClassifier, GradientBoostingClassifier\n",
    "from imblearn.metrics import classification_report_imbalanced\n",
    "from sklearn.ensemble import RandomForestClassifier\n",
    "from sklearn.ensemble import GradientBoostingRegressor\n",
    "from sklearn.svm import SVR\n",
    "from sklearn.preprocessing import LabelEncoder\n",
    "from sklearn.tree import DecisionTreeClassifier\n",
    "from sklearn.linear_model import LogisticRegression\n",
    "from sklearn.metrics import classification_report"
   ]
  },
  {
   "cell_type": "code",
   "execution_count": 4,
   "metadata": {},
   "outputs": [],
   "source": [
    "#!pip install fast-ml"
   ]
  },
  {
   "cell_type": "markdown",
   "metadata": {
    "id": "_6wB1hMPy4QG"
   },
   "source": [
    "## Take a first look at the data"
   ]
  },
  {
   "cell_type": "code",
   "execution_count": 5,
   "metadata": {
    "id": "6RzIaZ7buY0w"
   },
   "outputs": [],
   "source": [
    "cin = pd.read_csv('cin_prep.csv')"
   ]
  },
  {
   "cell_type": "code",
   "execution_count": 6,
   "metadata": {
    "colab": {
     "base_uri": "https://localhost:8080/",
     "height": 352
    },
    "id": "9VBXAwAhuYqQ",
    "outputId": "4358c260-113f-4c0e-a0ba-37f71235d535"
   },
   "outputs": [
    {
     "data": {
      "text/html": [
       "<div>\n",
       "<style scoped>\n",
       "    .dataframe tbody tr th:only-of-type {\n",
       "        vertical-align: middle;\n",
       "    }\n",
       "\n",
       "    .dataframe tbody tr th {\n",
       "        vertical-align: top;\n",
       "    }\n",
       "\n",
       "    .dataframe thead th {\n",
       "        text-align: right;\n",
       "    }\n",
       "</style>\n",
       "<table border=\"1\" class=\"dataframe\">\n",
       "  <thead>\n",
       "    <tr style=\"text-align: right;\">\n",
       "      <th></th>\n",
       "      <th>color</th>\n",
       "      <th>director_name</th>\n",
       "      <th>num_critic_for_reviews</th>\n",
       "      <th>duration</th>\n",
       "      <th>director_facebook_likes</th>\n",
       "      <th>actor_3_facebook_likes</th>\n",
       "      <th>actor_2_name</th>\n",
       "      <th>actor_1_facebook_likes</th>\n",
       "      <th>gross</th>\n",
       "      <th>genres</th>\n",
       "      <th>...</th>\n",
       "      <th>budget</th>\n",
       "      <th>title_year</th>\n",
       "      <th>actor_2_facebook_likes</th>\n",
       "      <th>imdb_score</th>\n",
       "      <th>aspect_ratio</th>\n",
       "      <th>movie_facebook_likes</th>\n",
       "      <th>war_symb_title</th>\n",
       "      <th>point_symb_title</th>\n",
       "      <th>movie_description</th>\n",
       "      <th>genres_split</th>\n",
       "    </tr>\n",
       "  </thead>\n",
       "  <tbody>\n",
       "    <tr>\n",
       "      <th>0</th>\n",
       "      <td>Color</td>\n",
       "      <td>James Cameron</td>\n",
       "      <td>723.0</td>\n",
       "      <td>178.0</td>\n",
       "      <td>0.0</td>\n",
       "      <td>855.0</td>\n",
       "      <td>Joel David Moore</td>\n",
       "      <td>1000.0</td>\n",
       "      <td>760505847.0</td>\n",
       "      <td>Action|Adventure|Fantasy|Sci-Fi</td>\n",
       "      <td>...</td>\n",
       "      <td>237000000.0</td>\n",
       "      <td>2009.0</td>\n",
       "      <td>936.0</td>\n",
       "      <td>7.9</td>\n",
       "      <td>1.78</td>\n",
       "      <td>33000</td>\n",
       "      <td>4</td>\n",
       "      <td>0</td>\n",
       "      <td>A paraplegic Marine dispatched to the moon Pan...</td>\n",
       "      <td>['Action', 'Adventure', 'Fantasy', 'Sci-Fi']</td>\n",
       "    </tr>\n",
       "    <tr>\n",
       "      <th>1</th>\n",
       "      <td>Color</td>\n",
       "      <td>Gore Verbinski</td>\n",
       "      <td>302.0</td>\n",
       "      <td>169.0</td>\n",
       "      <td>563.0</td>\n",
       "      <td>1000.0</td>\n",
       "      <td>Orlando Bloom</td>\n",
       "      <td>40000.0</td>\n",
       "      <td>309404152.0</td>\n",
       "      <td>Action|Adventure|Fantasy</td>\n",
       "      <td>...</td>\n",
       "      <td>300000000.0</td>\n",
       "      <td>2007.0</td>\n",
       "      <td>5000.0</td>\n",
       "      <td>7.1</td>\n",
       "      <td>2.35</td>\n",
       "      <td>0</td>\n",
       "      <td>8</td>\n",
       "      <td>0</td>\n",
       "      <td>Captain Barbossa, Will Turner and Elizabeth Sw...</td>\n",
       "      <td>['Action', 'Adventure', 'Fantasy']</td>\n",
       "    </tr>\n",
       "    <tr>\n",
       "      <th>2</th>\n",
       "      <td>Color</td>\n",
       "      <td>Sam Mendes</td>\n",
       "      <td>602.0</td>\n",
       "      <td>148.0</td>\n",
       "      <td>0.0</td>\n",
       "      <td>161.0</td>\n",
       "      <td>Rory Kinnear</td>\n",
       "      <td>11000.0</td>\n",
       "      <td>200074175.0</td>\n",
       "      <td>Action|Adventure|Thriller</td>\n",
       "      <td>...</td>\n",
       "      <td>245000000.0</td>\n",
       "      <td>2015.0</td>\n",
       "      <td>393.0</td>\n",
       "      <td>6.8</td>\n",
       "      <td>2.35</td>\n",
       "      <td>85000</td>\n",
       "      <td>1</td>\n",
       "      <td>0</td>\n",
       "      <td>A cryptic message from James Bond's past sends...</td>\n",
       "      <td>['Action', 'Adventure', 'Thriller']</td>\n",
       "    </tr>\n",
       "    <tr>\n",
       "      <th>3</th>\n",
       "      <td>Color</td>\n",
       "      <td>Christopher Nolan</td>\n",
       "      <td>813.0</td>\n",
       "      <td>164.0</td>\n",
       "      <td>22000.0</td>\n",
       "      <td>23000.0</td>\n",
       "      <td>Christian Bale</td>\n",
       "      <td>27000.0</td>\n",
       "      <td>448130642.0</td>\n",
       "      <td>Action|Thriller</td>\n",
       "      <td>...</td>\n",
       "      <td>250000000.0</td>\n",
       "      <td>2012.0</td>\n",
       "      <td>23000.0</td>\n",
       "      <td>8.5</td>\n",
       "      <td>2.35</td>\n",
       "      <td>164000</td>\n",
       "      <td>3</td>\n",
       "      <td>0</td>\n",
       "      <td>Eight years after the Joker's reign of chaos, ...</td>\n",
       "      <td>['Action', 'Thriller']</td>\n",
       "    </tr>\n",
       "    <tr>\n",
       "      <th>4</th>\n",
       "      <td>Color</td>\n",
       "      <td>Andrew Stanton</td>\n",
       "      <td>462.0</td>\n",
       "      <td>132.0</td>\n",
       "      <td>475.0</td>\n",
       "      <td>530.0</td>\n",
       "      <td>Samantha Morton</td>\n",
       "      <td>640.0</td>\n",
       "      <td>73058679.0</td>\n",
       "      <td>Action|Adventure|Sci-Fi</td>\n",
       "      <td>...</td>\n",
       "      <td>263700000.0</td>\n",
       "      <td>2012.0</td>\n",
       "      <td>632.0</td>\n",
       "      <td>6.6</td>\n",
       "      <td>2.35</td>\n",
       "      <td>24000</td>\n",
       "      <td>3</td>\n",
       "      <td>0</td>\n",
       "      <td>Transported to Barsoom, a Civil War vet discov...</td>\n",
       "      <td>['Action', 'Adventure', 'Sci-Fi']</td>\n",
       "    </tr>\n",
       "  </tbody>\n",
       "</table>\n",
       "<p>5 rows × 32 columns</p>\n",
       "</div>"
      ],
      "text/plain": [
       "   color      director_name  num_critic_for_reviews  duration  \\\n",
       "0  Color      James Cameron                   723.0     178.0   \n",
       "1  Color     Gore Verbinski                   302.0     169.0   \n",
       "2  Color         Sam Mendes                   602.0     148.0   \n",
       "3  Color  Christopher Nolan                   813.0     164.0   \n",
       "4  Color     Andrew Stanton                   462.0     132.0   \n",
       "\n",
       "   director_facebook_likes  actor_3_facebook_likes      actor_2_name  \\\n",
       "0                      0.0                   855.0  Joel David Moore   \n",
       "1                    563.0                  1000.0     Orlando Bloom   \n",
       "2                      0.0                   161.0      Rory Kinnear   \n",
       "3                  22000.0                 23000.0    Christian Bale   \n",
       "4                    475.0                   530.0   Samantha Morton   \n",
       "\n",
       "   actor_1_facebook_likes        gross                           genres  ...  \\\n",
       "0                  1000.0  760505847.0  Action|Adventure|Fantasy|Sci-Fi  ...   \n",
       "1                 40000.0  309404152.0         Action|Adventure|Fantasy  ...   \n",
       "2                 11000.0  200074175.0        Action|Adventure|Thriller  ...   \n",
       "3                 27000.0  448130642.0                  Action|Thriller  ...   \n",
       "4                   640.0   73058679.0          Action|Adventure|Sci-Fi  ...   \n",
       "\n",
       "        budget title_year  actor_2_facebook_likes  imdb_score aspect_ratio  \\\n",
       "0  237000000.0     2009.0                   936.0         7.9         1.78   \n",
       "1  300000000.0     2007.0                  5000.0         7.1         2.35   \n",
       "2  245000000.0     2015.0                   393.0         6.8         2.35   \n",
       "3  250000000.0     2012.0                 23000.0         8.5         2.35   \n",
       "4  263700000.0     2012.0                   632.0         6.6         2.35   \n",
       "\n",
       "   movie_facebook_likes war_symb_title point_symb_title  \\\n",
       "0                 33000              4                0   \n",
       "1                     0              8                0   \n",
       "2                 85000              1                0   \n",
       "3                164000              3                0   \n",
       "4                 24000              3                0   \n",
       "\n",
       "                                   movie_description  \\\n",
       "0  A paraplegic Marine dispatched to the moon Pan...   \n",
       "1  Captain Barbossa, Will Turner and Elizabeth Sw...   \n",
       "2  A cryptic message from James Bond's past sends...   \n",
       "3  Eight years after the Joker's reign of chaos, ...   \n",
       "4  Transported to Barsoom, a Civil War vet discov...   \n",
       "\n",
       "                                   genres_split  \n",
       "0  ['Action', 'Adventure', 'Fantasy', 'Sci-Fi']  \n",
       "1            ['Action', 'Adventure', 'Fantasy']  \n",
       "2           ['Action', 'Adventure', 'Thriller']  \n",
       "3                        ['Action', 'Thriller']  \n",
       "4             ['Action', 'Adventure', 'Sci-Fi']  \n",
       "\n",
       "[5 rows x 32 columns]"
      ]
     },
     "execution_count": 6,
     "metadata": {},
     "output_type": "execute_result"
    }
   ],
   "source": [
    "cin.head()"
   ]
  },
  {
   "cell_type": "code",
   "execution_count": 7,
   "metadata": {},
   "outputs": [
    {
     "data": {
      "text/plain": [
       "Index(['color', 'director_name', 'num_critic_for_reviews', 'duration',\n",
       "       'director_facebook_likes', 'actor_3_facebook_likes', 'actor_2_name',\n",
       "       'actor_1_facebook_likes', 'gross', 'genres', 'actor_1_name',\n",
       "       'movie_title', 'num_voted_users', 'cast_total_facebook_likes',\n",
       "       'actor_3_name', 'facenumber_in_poster', 'plot_keywords',\n",
       "       'movie_imdb_link', 'num_user_for_reviews', 'language', 'country',\n",
       "       'content_rating', 'budget', 'title_year', 'actor_2_facebook_likes',\n",
       "       'imdb_score', 'aspect_ratio', 'movie_facebook_likes', 'war_symb_title',\n",
       "       'point_symb_title', 'movie_description', 'genres_split'],\n",
       "      dtype='object')"
      ]
     },
     "execution_count": 7,
     "metadata": {},
     "output_type": "execute_result"
    }
   ],
   "source": [
    "cin.columns"
   ]
  },
  {
   "cell_type": "markdown",
   "metadata": {},
   "source": [
    "# Let's drop columns that we won't use now"
   ]
  },
  {
   "cell_type": "code",
   "execution_count": 8,
   "metadata": {},
   "outputs": [],
   "source": [
    "df = cin"
   ]
  },
  {
   "cell_type": "code",
   "execution_count": 9,
   "metadata": {},
   "outputs": [],
   "source": [
    "df = df.drop(['aspect_ratio'], axis=1)"
   ]
  },
  {
   "cell_type": "code",
   "execution_count": 10,
   "metadata": {},
   "outputs": [],
   "source": [
    "df = df.drop(['genres_split'], axis=1)"
   ]
  },
  {
   "cell_type": "code",
   "execution_count": 11,
   "metadata": {},
   "outputs": [],
   "source": [
    "df = df.drop(['point_symb_title'], axis=1)"
   ]
  },
  {
   "cell_type": "code",
   "execution_count": 12,
   "metadata": {},
   "outputs": [],
   "source": [
    "df = df.drop(['movie_imdb_link'], axis=1)"
   ]
  },
  {
   "cell_type": "code",
   "execution_count": 13,
   "metadata": {},
   "outputs": [],
   "source": [
    "df = df.drop(['war_symb_title'], axis=1)"
   ]
  },
  {
   "cell_type": "code",
   "execution_count": 14,
   "metadata": {},
   "outputs": [],
   "source": [
    "df = df.drop(['movie_description'], axis=1)"
   ]
  },
  {
   "cell_type": "code",
   "execution_count": 15,
   "metadata": {},
   "outputs": [],
   "source": [
    "df = df.drop(['facenumber_in_poster'], axis=1)"
   ]
  },
  {
   "cell_type": "code",
   "execution_count": 16,
   "metadata": {},
   "outputs": [],
   "source": [
    "df = df.drop(['actor_2_name'], axis=1)"
   ]
  },
  {
   "cell_type": "code",
   "execution_count": 17,
   "metadata": {},
   "outputs": [],
   "source": [
    "df = df.drop(['movie_title'], axis=1)"
   ]
  },
  {
   "cell_type": "code",
   "execution_count": 18,
   "metadata": {},
   "outputs": [],
   "source": [
    "df = df.drop(['actor_3_name'], axis=1)"
   ]
  },
  {
   "cell_type": "code",
   "execution_count": 19,
   "metadata": {},
   "outputs": [],
   "source": [
    "df = df.drop(['plot_keywords'], axis=1)"
   ]
  },
  {
   "cell_type": "markdown",
   "metadata": {},
   "source": [
    "# Let's split our data in train, test, val sets"
   ]
  },
  {
   "cell_type": "code",
   "execution_count": 20,
   "metadata": {},
   "outputs": [
    {
     "name": "stdout",
     "output_type": "stream",
     "text": [
      "(3293, 20)\n",
      "(3293,)\n",
      "(411, 20)\n",
      "(411,)\n",
      "(413, 20)\n",
      "(413,)\n"
     ]
    },
    {
     "data": {
      "text/plain": [
       "(None, None)"
      ]
     },
     "execution_count": 20,
     "metadata": {},
     "output_type": "execute_result"
    }
   ],
   "source": [
    "X_train, y_train, X_valid, y_valid, X_test, y_test = train_valid_test_split(df, target = 'gross', \n",
    "                                                                            method='sorted', sort_by_col='gross',\n",
    "                                                                            train_size=0.8, valid_size=0.1, \n",
    "                                                                            test_size=0.1)\n",
    "\n",
    "print(X_train.shape), print(y_train.shape)\n",
    "print(X_valid.shape), print(y_valid.shape)\n",
    "print(X_test.shape), print(y_test.shape)"
   ]
  },
  {
   "cell_type": "markdown",
   "metadata": {},
   "source": [
    "## Now we will work only with train set. Let's do encoding"
   ]
  },
  {
   "cell_type": "code",
   "execution_count": 21,
   "metadata": {},
   "outputs": [
    {
     "data": {
      "text/html": [
       "<div>\n",
       "<style scoped>\n",
       "    .dataframe tbody tr th:only-of-type {\n",
       "        vertical-align: middle;\n",
       "    }\n",
       "\n",
       "    .dataframe tbody tr th {\n",
       "        vertical-align: top;\n",
       "    }\n",
       "\n",
       "    .dataframe thead th {\n",
       "        text-align: right;\n",
       "    }\n",
       "</style>\n",
       "<table border=\"1\" class=\"dataframe\">\n",
       "  <thead>\n",
       "    <tr style=\"text-align: right;\">\n",
       "      <th></th>\n",
       "      <th>color</th>\n",
       "      <th>director_name</th>\n",
       "      <th>num_critic_for_reviews</th>\n",
       "      <th>duration</th>\n",
       "      <th>director_facebook_likes</th>\n",
       "      <th>actor_3_facebook_likes</th>\n",
       "      <th>actor_1_facebook_likes</th>\n",
       "      <th>genres</th>\n",
       "      <th>actor_1_name</th>\n",
       "      <th>num_voted_users</th>\n",
       "      <th>cast_total_facebook_likes</th>\n",
       "      <th>num_user_for_reviews</th>\n",
       "      <th>language</th>\n",
       "      <th>country</th>\n",
       "      <th>content_rating</th>\n",
       "      <th>budget</th>\n",
       "      <th>title_year</th>\n",
       "      <th>actor_2_facebook_likes</th>\n",
       "      <th>imdb_score</th>\n",
       "      <th>movie_facebook_likes</th>\n",
       "    </tr>\n",
       "  </thead>\n",
       "  <tbody>\n",
       "    <tr>\n",
       "      <th>3039</th>\n",
       "      <td>Color</td>\n",
       "      <td>Ekachai Uekrongtham</td>\n",
       "      <td>66.0</td>\n",
       "      <td>96.0</td>\n",
       "      <td>3.0</td>\n",
       "      <td>305.0</td>\n",
       "      <td>2000.0</td>\n",
       "      <td>Action|Crime|Thriller</td>\n",
       "      <td>Michael Jai White</td>\n",
       "      <td>5228</td>\n",
       "      <td>2802</td>\n",
       "      <td>38</td>\n",
       "      <td>English</td>\n",
       "      <td>Thailand</td>\n",
       "      <td>R</td>\n",
       "      <td>9.000000e+06</td>\n",
       "      <td>2014.0</td>\n",
       "      <td>368.0</td>\n",
       "      <td>5.7</td>\n",
       "      <td>0</td>\n",
       "    </tr>\n",
       "    <tr>\n",
       "      <th>3903</th>\n",
       "      <td>Color</td>\n",
       "      <td>Frank Whaley</td>\n",
       "      <td>9.0</td>\n",
       "      <td>96.0</td>\n",
       "      <td>436.0</td>\n",
       "      <td>4.0</td>\n",
       "      <td>474.0</td>\n",
       "      <td>Comedy|Drama</td>\n",
       "      <td>Lynn Cohen</td>\n",
       "      <td>480</td>\n",
       "      <td>920</td>\n",
       "      <td>21</td>\n",
       "      <td>English</td>\n",
       "      <td>USA</td>\n",
       "      <td>R</td>\n",
       "      <td>1.500000e+06</td>\n",
       "      <td>2001.0</td>\n",
       "      <td>436.0</td>\n",
       "      <td>5.4</td>\n",
       "      <td>47</td>\n",
       "    </tr>\n",
       "    <tr>\n",
       "      <th>3902</th>\n",
       "      <td>Color</td>\n",
       "      <td>Brian Trenchard-Smith</td>\n",
       "      <td>8.0</td>\n",
       "      <td>88.0</td>\n",
       "      <td>53.0</td>\n",
       "      <td>176.0</td>\n",
       "      <td>563.0</td>\n",
       "      <td>Action|Drama</td>\n",
       "      <td>David Keith</td>\n",
       "      <td>783</td>\n",
       "      <td>1284</td>\n",
       "      <td>12</td>\n",
       "      <td>English</td>\n",
       "      <td>Germany</td>\n",
       "      <td>R</td>\n",
       "      <td>1.000000e+06</td>\n",
       "      <td>2006.0</td>\n",
       "      <td>288.0</td>\n",
       "      <td>4.1</td>\n",
       "      <td>42</td>\n",
       "    </tr>\n",
       "    <tr>\n",
       "      <th>3429</th>\n",
       "      <td>Color</td>\n",
       "      <td>Robert Sarkies</td>\n",
       "      <td>43.0</td>\n",
       "      <td>100.0</td>\n",
       "      <td>0.0</td>\n",
       "      <td>3.0</td>\n",
       "      <td>109.0</td>\n",
       "      <td>Crime|Drama</td>\n",
       "      <td>William Kircher</td>\n",
       "      <td>2776</td>\n",
       "      <td>122</td>\n",
       "      <td>22</td>\n",
       "      <td>English</td>\n",
       "      <td>New Zealand</td>\n",
       "      <td>R</td>\n",
       "      <td>9.805805e+07</td>\n",
       "      <td>2006.0</td>\n",
       "      <td>10.0</td>\n",
       "      <td>7.3</td>\n",
       "      <td>285</td>\n",
       "    </tr>\n",
       "    <tr>\n",
       "      <th>3213</th>\n",
       "      <td>Color</td>\n",
       "      <td>Ian Fitzgibbon</td>\n",
       "      <td>54.0</td>\n",
       "      <td>88.0</td>\n",
       "      <td>11.0</td>\n",
       "      <td>415.0</td>\n",
       "      <td>1000.0</td>\n",
       "      <td>Action|Comedy|Crime|Drama|Romance|Thriller</td>\n",
       "      <td>Jim Broadbent</td>\n",
       "      <td>5133</td>\n",
       "      <td>2728</td>\n",
       "      <td>31</td>\n",
       "      <td>English</td>\n",
       "      <td>Ireland</td>\n",
       "      <td>R</td>\n",
       "      <td>4.103382e+07</td>\n",
       "      <td>2009.0</td>\n",
       "      <td>418.0</td>\n",
       "      <td>6.4</td>\n",
       "      <td>663</td>\n",
       "    </tr>\n",
       "  </tbody>\n",
       "</table>\n",
       "</div>"
      ],
      "text/plain": [
       "      color          director_name  num_critic_for_reviews  duration  \\\n",
       "3039  Color    Ekachai Uekrongtham                    66.0      96.0   \n",
       "3903  Color           Frank Whaley                     9.0      96.0   \n",
       "3902  Color  Brian Trenchard-Smith                     8.0      88.0   \n",
       "3429  Color         Robert Sarkies                    43.0     100.0   \n",
       "3213  Color         Ian Fitzgibbon                    54.0      88.0   \n",
       "\n",
       "      director_facebook_likes  actor_3_facebook_likes  actor_1_facebook_likes  \\\n",
       "3039                      3.0                   305.0                  2000.0   \n",
       "3903                    436.0                     4.0                   474.0   \n",
       "3902                     53.0                   176.0                   563.0   \n",
       "3429                      0.0                     3.0                   109.0   \n",
       "3213                     11.0                   415.0                  1000.0   \n",
       "\n",
       "                                          genres       actor_1_name  \\\n",
       "3039                       Action|Crime|Thriller  Michael Jai White   \n",
       "3903                                Comedy|Drama         Lynn Cohen   \n",
       "3902                                Action|Drama        David Keith   \n",
       "3429                                 Crime|Drama    William Kircher   \n",
       "3213  Action|Comedy|Crime|Drama|Romance|Thriller      Jim Broadbent   \n",
       "\n",
       "      num_voted_users  cast_total_facebook_likes  num_user_for_reviews  \\\n",
       "3039             5228                       2802                    38   \n",
       "3903              480                        920                    21   \n",
       "3902              783                       1284                    12   \n",
       "3429             2776                        122                    22   \n",
       "3213             5133                       2728                    31   \n",
       "\n",
       "     language      country content_rating        budget  title_year  \\\n",
       "3039  English     Thailand              R  9.000000e+06      2014.0   \n",
       "3903  English          USA              R  1.500000e+06      2001.0   \n",
       "3902  English      Germany              R  1.000000e+06      2006.0   \n",
       "3429  English  New Zealand              R  9.805805e+07      2006.0   \n",
       "3213  English      Ireland              R  4.103382e+07      2009.0   \n",
       "\n",
       "      actor_2_facebook_likes  imdb_score  movie_facebook_likes  \n",
       "3039                   368.0         5.7                     0  \n",
       "3903                   436.0         5.4                    47  \n",
       "3902                   288.0         4.1                    42  \n",
       "3429                    10.0         7.3                   285  \n",
       "3213                   418.0         6.4                   663  "
      ]
     },
     "execution_count": 21,
     "metadata": {},
     "output_type": "execute_result"
    }
   ],
   "source": [
    "X_train.head()"
   ]
  },
  {
   "cell_type": "markdown",
   "metadata": {},
   "source": [
    "# cat val encoding"
   ]
  },
  {
   "cell_type": "markdown",
   "metadata": {},
   "source": [
    "## one hot encoding"
   ]
  },
  {
   "cell_type": "code",
   "execution_count": 22,
   "metadata": {},
   "outputs": [],
   "source": [
    "data = X_train"
   ]
  },
  {
   "cell_type": "markdown",
   "metadata": {},
   "source": [
    "### color"
   ]
  },
  {
   "cell_type": "code",
   "execution_count": 23,
   "metadata": {},
   "outputs": [],
   "source": [
    "encoded_colors = pd.get_dummies(data['color'], prefix='color')\n",
    "data = pd.concat([data, encoded_colors], axis=1)\n",
    "data.drop('color', axis=1, inplace=True)"
   ]
  },
  {
   "cell_type": "markdown",
   "metadata": {},
   "source": [
    "### genres_split"
   ]
  },
  {
   "cell_type": "code",
   "execution_count": 24,
   "metadata": {},
   "outputs": [],
   "source": [
    "data['genres'] = data['genres'].fillna('')\n",
    "unique_genres = set()\n",
    "for genres in data['genres']:\n",
    "    unique_genres.update(genres.split('|'))\n",
    "genre_columns = []\n",
    "for genre in unique_genres:\n",
    "    data[genre] = data['genres'].apply(lambda x: 1 if genre in x.split('|') else 0)\n",
    "    genre_columns.append(genre)\n",
    "data['genre_OOV'] = data['genres'].apply(lambda x: 1 if not any(genre in x.split('|') for genre in genre_columns) else 0)\n",
    "data.drop('genres', axis=1, inplace=True)"
   ]
  },
  {
   "cell_type": "markdown",
   "metadata": {},
   "source": [
    "### content_rating"
   ]
  },
  {
   "cell_type": "code",
   "execution_count": 25,
   "metadata": {},
   "outputs": [],
   "source": [
    "unique_ratings = data['content_rating'].unique()\n",
    "rating_columns = []\n",
    "for rating in unique_ratings:\n",
    "    data[f\"rating_{rating}\"] = data['content_rating'].apply(lambda x: 1 if x == rating else 0)\n",
    "    rating_columns.append(f\"rating_{rating}\")\n",
    "data['content_rating_OOV'] = data['content_rating'].apply(lambda x: 1 if x not in unique_ratings else 0)\n",
    "#data.drop('content_rating', axis=1, inplace=True)"
   ]
  },
  {
   "cell_type": "markdown",
   "metadata": {},
   "source": [
    "## Let's separate countries and languages in 2 categories"
   ]
  },
  {
   "cell_type": "markdown",
   "metadata": {},
   "source": [
    "### country"
   ]
  },
  {
   "cell_type": "code",
   "execution_count": 26,
   "metadata": {},
   "outputs": [],
   "source": [
    "data['USA'] = data['country'].apply(lambda x: 1 if x == 'USA' else 0)\n",
    "data['not_USA'] = data['country'].apply(lambda x: 1 if x != 'USA' else 0)\n",
    "data.drop('country', axis=1, inplace=True)"
   ]
  },
  {
   "cell_type": "markdown",
   "metadata": {},
   "source": [
    "### language"
   ]
  },
  {
   "cell_type": "code",
   "execution_count": 27,
   "metadata": {},
   "outputs": [],
   "source": [
    "data['English'] = data['language'].apply(lambda x: 1 if x == 'English' else 0)\n",
    "data['not_English'] = data['language'].apply(lambda x: 1 if x != 'English' else 0)\n",
    "data.drop('language', axis=1, inplace=True)"
   ]
  },
  {
   "cell_type": "markdown",
   "metadata": {},
   "source": [
    "## Bucketing of director_name by budget"
   ]
  },
  {
   "cell_type": "code",
   "execution_count": 28,
   "metadata": {},
   "outputs": [],
   "source": [
    "director_avg_budget = data.groupby('director_name')['budget'].mean()\n",
    "num_buckets = 5\n",
    "bucket_labels = [f'bucket {i+1}' for i in range(num_buckets)]\n",
    "data['director_bucket'] = pd.qcut(data['director_name'].map(director_avg_budget), \n",
    "                                  q=num_buckets, labels=bucket_labels)"
   ]
  },
  {
   "cell_type": "code",
   "execution_count": 29,
   "metadata": {},
   "outputs": [],
   "source": [
    "encoded_director = pd.get_dummies(data['director_bucket'], prefix='Director')\n",
    "data = pd.concat([data, encoded_director], axis=1)"
   ]
  },
  {
   "cell_type": "code",
   "execution_count": 30,
   "metadata": {},
   "outputs": [],
   "source": [
    "data.drop('director_bucket', axis=1, inplace=True)\n",
    "data.drop('director_name', axis=1, inplace=True)"
   ]
  },
  {
   "cell_type": "markdown",
   "metadata": {},
   "source": [
    "## Bucketing of actor_1_name by actor_1_fb_likes"
   ]
  },
  {
   "cell_type": "code",
   "execution_count": 31,
   "metadata": {},
   "outputs": [],
   "source": [
    "actor_1_avg_likes = data.groupby('actor_1_name')['actor_1_facebook_likes'].mean()\n",
    "num_buckets = 5\n",
    "bucket_labels = [f'bucket {i+1}' for i in range(num_buckets)]\n",
    "data['actor_1_bucket'] = pd.qcut(data['actor_1_name'].map(actor_1_avg_likes),\n",
    "                                 q=num_buckets, labels=bucket_labels)"
   ]
  },
  {
   "cell_type": "code",
   "execution_count": 32,
   "metadata": {},
   "outputs": [],
   "source": [
    "encoded_actor_1 = pd.get_dummies(data['actor_1_bucket'], prefix='Actor1')\n",
    "data = pd.concat([data, encoded_actor_1], axis=1)"
   ]
  },
  {
   "cell_type": "code",
   "execution_count": 33,
   "metadata": {},
   "outputs": [],
   "source": [
    "data.drop('actor_1_bucket', axis=1, inplace=True)\n",
    "data.drop('actor_1_name', axis=1, inplace=True)"
   ]
  },
  {
   "cell_type": "markdown",
   "metadata": {},
   "source": [
    "## Now let's prepare X_test"
   ]
  },
  {
   "cell_type": "code",
   "execution_count": 34,
   "metadata": {},
   "outputs": [],
   "source": [
    "encoded_colors = pd.get_dummies(X_test['color'], prefix='color')\n",
    "X_test = pd.concat([X_test, encoded_colors], axis=1)\n",
    "X_test.drop('color', axis=1, inplace=True)"
   ]
  },
  {
   "cell_type": "code",
   "execution_count": 35,
   "metadata": {},
   "outputs": [],
   "source": [
    "X_test['genres'] = X_test['genres'].fillna('')\n",
    "for genre in genre_columns:\n",
    "    X_test[genre] = X_test['genres'].apply(lambda x: 1 if genre in x.split('|') else 0)\n",
    "X_test['genre_OOV'] = X_test['genres'].apply(lambda x: 1 if not any(genre in x.split('|') for \n",
    "                                                                    genre in genre_columns) else 0)\n",
    "X_test.drop('genres', axis=1, inplace=True)"
   ]
  },
  {
   "cell_type": "code",
   "execution_count": 36,
   "metadata": {},
   "outputs": [],
   "source": [
    "unique_ratings = data['content_rating'].unique()\n",
    "for rating in rating_columns:\n",
    "    if rating in X_test.columns:\n",
    "        X_test[rating] = X_test['content_rating'].apply(lambda x: 1 if x == rating.split('_')[1] else 0)\n",
    "X_test['content_rating_OOV'] = X_test['content_rating'].apply(lambda x: 1 if x not in unique_ratings else 0)\n",
    "X_test.drop('content_rating', axis=1, inplace=True)"
   ]
  },
  {
   "cell_type": "code",
   "execution_count": 37,
   "metadata": {},
   "outputs": [],
   "source": [
    "X_test['USA'] = X_test['country'].apply(lambda x: 1 if x == 'USA' else 0)\n",
    "X_test['not_USA'] = X_test['country'].apply(lambda x: 1 if x != 'USA' else 0)\n",
    "X_test.drop('country', axis=1, inplace=True)"
   ]
  },
  {
   "cell_type": "code",
   "execution_count": 38,
   "metadata": {},
   "outputs": [],
   "source": [
    "X_test['English'] = X_test['language'].apply(lambda x: 1 if x == 'English' else 0)\n",
    "X_test['not_English'] = X_test['language'].apply(lambda x: 1 if x != 'English' else 0)\n",
    "X_test.drop('language', axis=1, inplace=True)"
   ]
  },
  {
   "cell_type": "code",
   "execution_count": 39,
   "metadata": {},
   "outputs": [],
   "source": [
    "actor_1_avg_likes = X_test.groupby('actor_1_name')['actor_1_facebook_likes'].mean()\n",
    "num_buckets = 5\n",
    "bucket_labels = [f'bucket {i+1}' for i in range(num_buckets)]\n",
    "X_test['actor_1_bucket'] = pd.qcut(X_test['actor_1_name'].map(actor_1_avg_likes),\n",
    "                                 q=num_buckets, labels=bucket_labels)"
   ]
  },
  {
   "cell_type": "code",
   "execution_count": 40,
   "metadata": {},
   "outputs": [],
   "source": [
    "encoded_actor_1 = pd.get_dummies(X_test['actor_1_bucket'], prefix='Actor1')\n",
    "X_test = pd.concat([X_test, encoded_actor_1], axis=1)"
   ]
  },
  {
   "cell_type": "code",
   "execution_count": 41,
   "metadata": {},
   "outputs": [],
   "source": [
    "director_avg_budget = X_test.groupby('director_name')['budget'].mean()\n",
    "num_buckets = 5\n",
    "bucket_labels = [f'bucket {i+1}' for i in range(num_buckets)]\n",
    "X_test['director_bucket'] = pd.qcut(X_test['director_name'].map(director_avg_budget), \n",
    "                                  q=num_buckets, labels=bucket_labels)"
   ]
  },
  {
   "cell_type": "code",
   "execution_count": 42,
   "metadata": {},
   "outputs": [],
   "source": [
    "encoded_director = pd.get_dummies(X_test['director_bucket'], prefix='Director')\n",
    "X_test = pd.concat([X_test, encoded_director], axis=1)"
   ]
  },
  {
   "cell_type": "code",
   "execution_count": 43,
   "metadata": {},
   "outputs": [],
   "source": [
    "X_test.drop('director_bucket', axis=1, inplace=True)\n",
    "X_test.drop('director_name', axis=1, inplace=True)"
   ]
  },
  {
   "cell_type": "code",
   "execution_count": 44,
   "metadata": {},
   "outputs": [],
   "source": [
    "X_test.drop('actor_1_bucket', axis=1, inplace=True)\n",
    "X_test.drop('actor_1_name', axis=1, inplace=True)"
   ]
  },
  {
   "cell_type": "code",
   "execution_count": 45,
   "metadata": {},
   "outputs": [],
   "source": [
    "data.drop('content_rating', axis=1, inplace=True)"
   ]
  },
  {
   "cell_type": "code",
   "execution_count": 46,
   "metadata": {},
   "outputs": [
    {
     "name": "stdout",
     "output_type": "stream",
     "text": [
      "X_train before encoding: \n",
      " Index(['num_critic_for_reviews', 'duration', 'director_facebook_likes',\n",
      "       'actor_3_facebook_likes', 'actor_1_facebook_likes', 'num_voted_users',\n",
      "       'cast_total_facebook_likes', 'num_user_for_reviews', 'budget',\n",
      "       'title_year', 'actor_2_facebook_likes', 'imdb_score',\n",
      "       'movie_facebook_likes', 'color_Black and White', 'color_Color',\n",
      "       'Mystery', 'Animation', 'Western', 'Music', 'News', 'Thriller',\n",
      "       'Horror', 'Biography', 'Fantasy', 'Romance', 'Film-Noir', 'Musical',\n",
      "       'Short', 'Drama', 'Comedy', 'History', 'Crime', 'Sci-Fi', 'Documentary',\n",
      "       'Family', 'Sport', 'War', 'Adventure', 'Action', 'genre_OOV',\n",
      "       'rating_R', 'rating_PG-13', 'rating_Not Rated', 'rating_PG',\n",
      "       'rating_Approved', 'rating_G', 'rating_NC-17', 'content_rating_OOV',\n",
      "       'USA', 'not_USA', 'English', 'not_English', 'Director_bucket 1',\n",
      "       'Director_bucket 2', 'Director_bucket 3', 'Director_bucket 4',\n",
      "       'Director_bucket 5', 'Actor1_bucket 1', 'Actor1_bucket 2',\n",
      "       'Actor1_bucket 3', 'Actor1_bucket 4', 'Actor1_bucket 5'],\n",
      "      dtype='object')\n",
      "\n",
      " X_test before encoding: \n",
      " Index(['num_critic_for_reviews', 'duration', 'director_facebook_likes',\n",
      "       'actor_3_facebook_likes', 'actor_1_facebook_likes', 'num_voted_users',\n",
      "       'cast_total_facebook_likes', 'num_user_for_reviews', 'budget',\n",
      "       'title_year', 'actor_2_facebook_likes', 'imdb_score',\n",
      "       'movie_facebook_likes', 'color_Black and White', 'color_Color',\n",
      "       'Mystery', 'Animation', 'Western', 'Music', 'News', 'Thriller',\n",
      "       'Horror', 'Biography', 'Fantasy', 'Romance', 'Film-Noir', 'Musical',\n",
      "       'Short', 'Drama', 'Comedy', 'History', 'Crime', 'Sci-Fi', 'Documentary',\n",
      "       'Family', 'Sport', 'War', 'Adventure', 'Action', 'genre_OOV',\n",
      "       'content_rating_OOV', 'USA', 'not_USA', 'English', 'not_English',\n",
      "       'Actor1_bucket 1', 'Actor1_bucket 2', 'Actor1_bucket 3',\n",
      "       'Actor1_bucket 4', 'Actor1_bucket 5', 'Director_bucket 1',\n",
      "       'Director_bucket 2', 'Director_bucket 3', 'Director_bucket 4',\n",
      "       'Director_bucket 5'],\n",
      "      dtype='object')\n",
      "\n",
      " X_train after encoding: \n",
      " Index(['num_critic_for_reviews', 'duration', 'director_facebook_likes',\n",
      "       'actor_3_facebook_likes', 'actor_1_facebook_likes', 'num_voted_users',\n",
      "       'cast_total_facebook_likes', 'num_user_for_reviews', 'budget',\n",
      "       'title_year', 'actor_2_facebook_likes', 'imdb_score',\n",
      "       'movie_facebook_likes', 'color_Black and White', 'color_Color',\n",
      "       'Mystery', 'Animation', 'Western', 'Music', 'News', 'Thriller',\n",
      "       'Horror', 'Biography', 'Fantasy', 'Romance', 'Film-Noir', 'Musical',\n",
      "       'Short', 'Drama', 'Comedy', 'History', 'Crime', 'Sci-Fi', 'Documentary',\n",
      "       'Family', 'Sport', 'War', 'Adventure', 'Action', 'genre_OOV',\n",
      "       'rating_R', 'rating_PG-13', 'rating_Not Rated', 'rating_PG',\n",
      "       'rating_Approved', 'rating_G', 'rating_NC-17', 'content_rating_OOV',\n",
      "       'USA', 'not_USA', 'English', 'not_English', 'Director_bucket 1',\n",
      "       'Director_bucket 2', 'Director_bucket 3', 'Director_bucket 4',\n",
      "       'Director_bucket 5', 'Actor1_bucket 1', 'Actor1_bucket 2',\n",
      "       'Actor1_bucket 3', 'Actor1_bucket 4', 'Actor1_bucket 5'],\n",
      "      dtype='object')\n"
     ]
    }
   ],
   "source": [
    "def remove_unknown_tokens(data, known_tokens, oov_token):\n",
    "    data_encoded = data.copy()\n",
    "    unknown_tokens = set(data.columns) - set(known_tokens)\n",
    "    missing_tokens = set(known_tokens) - set(data.columns)\n",
    "    data_encoded.loc[:, unknown_tokens] = oov_token\n",
    "    data_encoded.loc[:, missing_tokens] = 0\n",
    "    return data_encoded[known_tokens]\n",
    "\n",
    "known_tokens = list(data.columns)\n",
    "\n",
    "oov_token = -1\n",
    "\n",
    "data_encoded = remove_unknown_tokens(data, known_tokens, oov_token)\n",
    "X_test_encoded = remove_unknown_tokens(X_test, known_tokens, oov_token)\n",
    "\n",
    "print(\"X_train before encoding: \\n\", data.columns)\n",
    "print(\"\\n X_test before encoding: \\n\", X_test.columns)\n",
    "print(\"\\n X_train after encoding: \\n\", data_encoded.columns)\n",
    "#print(\"\\n X_test after encoding: \\n\", X_test_encoded.columns)"
   ]
  },
  {
   "cell_type": "markdown",
   "metadata": {},
   "source": [
    " drop out -> \n",
    " 'actor_3_facebook_likes', 'actor_2_facebook_likes', 'actor_1_facebook_likes', \n",
    " 'num_voted_users',  'num_user_for_reviews'"
   ]
  },
  {
   "cell_type": "markdown",
   "metadata": {},
   "source": [
    "### Let's drop out some columns"
   ]
  },
  {
   "cell_type": "code",
   "execution_count": 47,
   "metadata": {},
   "outputs": [],
   "source": [
    "train_data_1 = data_encoded"
   ]
  },
  {
   "cell_type": "code",
   "execution_count": 48,
   "metadata": {},
   "outputs": [],
   "source": [
    "test_data_1 = X_test_encoded"
   ]
  },
  {
   "cell_type": "code",
   "execution_count": 49,
   "metadata": {},
   "outputs": [],
   "source": [
    "train_data_1.drop('actor_3_facebook_likes', axis=1, inplace=True)"
   ]
  },
  {
   "cell_type": "code",
   "execution_count": 50,
   "metadata": {},
   "outputs": [],
   "source": [
    "test_data_1.drop('actor_3_facebook_likes', axis=1, inplace=True)"
   ]
  },
  {
   "cell_type": "code",
   "execution_count": 51,
   "metadata": {},
   "outputs": [],
   "source": [
    "train_data_1.drop('actor_2_facebook_likes', axis=1, inplace=True)"
   ]
  },
  {
   "cell_type": "code",
   "execution_count": 52,
   "metadata": {},
   "outputs": [],
   "source": [
    "test_data_1.drop('actor_2_facebook_likes', axis=1, inplace=True)"
   ]
  },
  {
   "cell_type": "code",
   "execution_count": 53,
   "metadata": {},
   "outputs": [],
   "source": [
    "train_data_1.drop('actor_1_facebook_likes', axis=1, inplace=True)"
   ]
  },
  {
   "cell_type": "code",
   "execution_count": 54,
   "metadata": {},
   "outputs": [],
   "source": [
    "test_data_1.drop('actor_1_facebook_likes', axis=1, inplace=True)"
   ]
  },
  {
   "cell_type": "code",
   "execution_count": 55,
   "metadata": {},
   "outputs": [],
   "source": [
    "train_data_1.drop('num_voted_users', axis=1, inplace=True)"
   ]
  },
  {
   "cell_type": "code",
   "execution_count": 56,
   "metadata": {},
   "outputs": [],
   "source": [
    "test_data_1.drop('num_voted_users', axis=1, inplace=True)"
   ]
  },
  {
   "cell_type": "code",
   "execution_count": 57,
   "metadata": {},
   "outputs": [],
   "source": [
    "train_data_1.drop('num_user_for_reviews', axis=1, inplace=True)"
   ]
  },
  {
   "cell_type": "code",
   "execution_count": 58,
   "metadata": {},
   "outputs": [],
   "source": [
    "test_data_1.drop('num_user_for_reviews', axis=1, inplace=True)"
   ]
  },
  {
   "cell_type": "markdown",
   "metadata": {},
   "source": [
    "## Building a model"
   ]
  },
  {
   "cell_type": "markdown",
   "metadata": {},
   "source": [
    "### RF Regressor"
   ]
  },
  {
   "cell_type": "code",
   "execution_count": 59,
   "metadata": {},
   "outputs": [
    {
     "data": {
      "text/html": [
       "<style>#sk-container-id-1 {color: black;background-color: white;}#sk-container-id-1 pre{padding: 0;}#sk-container-id-1 div.sk-toggleable {background-color: white;}#sk-container-id-1 label.sk-toggleable__label {cursor: pointer;display: block;width: 100%;margin-bottom: 0;padding: 0.3em;box-sizing: border-box;text-align: center;}#sk-container-id-1 label.sk-toggleable__label-arrow:before {content: \"▸\";float: left;margin-right: 0.25em;color: #696969;}#sk-container-id-1 label.sk-toggleable__label-arrow:hover:before {color: black;}#sk-container-id-1 div.sk-estimator:hover label.sk-toggleable__label-arrow:before {color: black;}#sk-container-id-1 div.sk-toggleable__content {max-height: 0;max-width: 0;overflow: hidden;text-align: left;background-color: #f0f8ff;}#sk-container-id-1 div.sk-toggleable__content pre {margin: 0.2em;color: black;border-radius: 0.25em;background-color: #f0f8ff;}#sk-container-id-1 input.sk-toggleable__control:checked~div.sk-toggleable__content {max-height: 200px;max-width: 100%;overflow: auto;}#sk-container-id-1 input.sk-toggleable__control:checked~label.sk-toggleable__label-arrow:before {content: \"▾\";}#sk-container-id-1 div.sk-estimator input.sk-toggleable__control:checked~label.sk-toggleable__label {background-color: #d4ebff;}#sk-container-id-1 div.sk-label input.sk-toggleable__control:checked~label.sk-toggleable__label {background-color: #d4ebff;}#sk-container-id-1 input.sk-hidden--visually {border: 0;clip: rect(1px 1px 1px 1px);clip: rect(1px, 1px, 1px, 1px);height: 1px;margin: -1px;overflow: hidden;padding: 0;position: absolute;width: 1px;}#sk-container-id-1 div.sk-estimator {font-family: monospace;background-color: #f0f8ff;border: 1px dotted black;border-radius: 0.25em;box-sizing: border-box;margin-bottom: 0.5em;}#sk-container-id-1 div.sk-estimator:hover {background-color: #d4ebff;}#sk-container-id-1 div.sk-parallel-item::after {content: \"\";width: 100%;border-bottom: 1px solid gray;flex-grow: 1;}#sk-container-id-1 div.sk-label:hover label.sk-toggleable__label {background-color: #d4ebff;}#sk-container-id-1 div.sk-serial::before {content: \"\";position: absolute;border-left: 1px solid gray;box-sizing: border-box;top: 0;bottom: 0;left: 50%;z-index: 0;}#sk-container-id-1 div.sk-serial {display: flex;flex-direction: column;align-items: center;background-color: white;padding-right: 0.2em;padding-left: 0.2em;position: relative;}#sk-container-id-1 div.sk-item {position: relative;z-index: 1;}#sk-container-id-1 div.sk-parallel {display: flex;align-items: stretch;justify-content: center;background-color: white;position: relative;}#sk-container-id-1 div.sk-item::before, #sk-container-id-1 div.sk-parallel-item::before {content: \"\";position: absolute;border-left: 1px solid gray;box-sizing: border-box;top: 0;bottom: 0;left: 50%;z-index: -1;}#sk-container-id-1 div.sk-parallel-item {display: flex;flex-direction: column;z-index: 1;position: relative;background-color: white;}#sk-container-id-1 div.sk-parallel-item:first-child::after {align-self: flex-end;width: 50%;}#sk-container-id-1 div.sk-parallel-item:last-child::after {align-self: flex-start;width: 50%;}#sk-container-id-1 div.sk-parallel-item:only-child::after {width: 0;}#sk-container-id-1 div.sk-dashed-wrapped {border: 1px dashed gray;margin: 0 0.4em 0.5em 0.4em;box-sizing: border-box;padding-bottom: 0.4em;background-color: white;}#sk-container-id-1 div.sk-label label {font-family: monospace;font-weight: bold;display: inline-block;line-height: 1.2em;}#sk-container-id-1 div.sk-label-container {text-align: center;}#sk-container-id-1 div.sk-container {/* jupyter's `normalize.less` sets `[hidden] { display: none; }` but bootstrap.min.css set `[hidden] { display: none !important; }` so we also need the `!important` here to be able to override the default hidden behavior on the sphinx rendered scikit-learn.org. See: https://github.com/scikit-learn/scikit-learn/issues/21755 */display: inline-block !important;position: relative;}#sk-container-id-1 div.sk-text-repr-fallback {display: none;}</style><div id=\"sk-container-id-1\" class=\"sk-top-container\"><div class=\"sk-text-repr-fallback\"><pre>RandomForestRegressor(n_estimators=50)</pre><b>In a Jupyter environment, please rerun this cell to show the HTML representation or trust the notebook. <br />On GitHub, the HTML representation is unable to render, please try loading this page with nbviewer.org.</b></div><div class=\"sk-container\" hidden><div class=\"sk-item\"><div class=\"sk-estimator sk-toggleable\"><input class=\"sk-toggleable__control sk-hidden--visually\" id=\"sk-estimator-id-1\" type=\"checkbox\" checked><label for=\"sk-estimator-id-1\" class=\"sk-toggleable__label sk-toggleable__label-arrow\">RandomForestRegressor</label><div class=\"sk-toggleable__content\"><pre>RandomForestRegressor(n_estimators=50)</pre></div></div></div></div></div>"
      ],
      "text/plain": [
       "RandomForestRegressor(n_estimators=50)"
      ]
     },
     "execution_count": 59,
     "metadata": {},
     "output_type": "execute_result"
    }
   ],
   "source": [
    "regression_model = RandomForestRegressor(n_estimators=50) \n",
    "regression_model.fit(train_data_1, y_train)"
   ]
  },
  {
   "cell_type": "code",
   "execution_count": 60,
   "metadata": {},
   "outputs": [
    {
     "name": "stdout",
     "output_type": "stream",
     "text": [
      "Mean Squared Error (MSE): 3.5300072887351972e+16\n",
      "Mean Absolute Error (MAE): 165351396.13128328\n",
      "Mean Absolute Percentage Error (MAPE): 0.7609329808413399\n",
      "R-squared Score: -3.27557515882469\n"
     ]
    }
   ],
   "source": [
    "y_pred = regression_model.predict(test_data_1)\n",
    "\n",
    "mse = mean_squared_error(y_test, y_pred)\n",
    "r2 = r2_score(y_test, y_pred)\n",
    "mae = mean_absolute_error(y_test, y_pred)\n",
    "mape = mean_absolute_percentage_error(y_test, y_pred)\n",
    "\n",
    "print(\"Mean Squared Error (MSE):\", mse)\n",
    "print(\"Mean Absolute Error (MAE):\", mae)\n",
    "print(\"Mean Absolute Percentage Error (MAPE):\", mape)\n",
    "print(\"R-squared Score:\", r2)"
   ]
  },
  {
   "cell_type": "markdown",
   "metadata": {},
   "source": [
    "### XGB Regressor"
   ]
  },
  {
   "cell_type": "code",
   "execution_count": 79,
   "metadata": {},
   "outputs": [
    {
     "data": {
      "text/html": [
       "<style>#sk-container-id-11 {color: black;background-color: white;}#sk-container-id-11 pre{padding: 0;}#sk-container-id-11 div.sk-toggleable {background-color: white;}#sk-container-id-11 label.sk-toggleable__label {cursor: pointer;display: block;width: 100%;margin-bottom: 0;padding: 0.3em;box-sizing: border-box;text-align: center;}#sk-container-id-11 label.sk-toggleable__label-arrow:before {content: \"▸\";float: left;margin-right: 0.25em;color: #696969;}#sk-container-id-11 label.sk-toggleable__label-arrow:hover:before {color: black;}#sk-container-id-11 div.sk-estimator:hover label.sk-toggleable__label-arrow:before {color: black;}#sk-container-id-11 div.sk-toggleable__content {max-height: 0;max-width: 0;overflow: hidden;text-align: left;background-color: #f0f8ff;}#sk-container-id-11 div.sk-toggleable__content pre {margin: 0.2em;color: black;border-radius: 0.25em;background-color: #f0f8ff;}#sk-container-id-11 input.sk-toggleable__control:checked~div.sk-toggleable__content {max-height: 200px;max-width: 100%;overflow: auto;}#sk-container-id-11 input.sk-toggleable__control:checked~label.sk-toggleable__label-arrow:before {content: \"▾\";}#sk-container-id-11 div.sk-estimator input.sk-toggleable__control:checked~label.sk-toggleable__label {background-color: #d4ebff;}#sk-container-id-11 div.sk-label input.sk-toggleable__control:checked~label.sk-toggleable__label {background-color: #d4ebff;}#sk-container-id-11 input.sk-hidden--visually {border: 0;clip: rect(1px 1px 1px 1px);clip: rect(1px, 1px, 1px, 1px);height: 1px;margin: -1px;overflow: hidden;padding: 0;position: absolute;width: 1px;}#sk-container-id-11 div.sk-estimator {font-family: monospace;background-color: #f0f8ff;border: 1px dotted black;border-radius: 0.25em;box-sizing: border-box;margin-bottom: 0.5em;}#sk-container-id-11 div.sk-estimator:hover {background-color: #d4ebff;}#sk-container-id-11 div.sk-parallel-item::after {content: \"\";width: 100%;border-bottom: 1px solid gray;flex-grow: 1;}#sk-container-id-11 div.sk-label:hover label.sk-toggleable__label {background-color: #d4ebff;}#sk-container-id-11 div.sk-serial::before {content: \"\";position: absolute;border-left: 1px solid gray;box-sizing: border-box;top: 0;bottom: 0;left: 50%;z-index: 0;}#sk-container-id-11 div.sk-serial {display: flex;flex-direction: column;align-items: center;background-color: white;padding-right: 0.2em;padding-left: 0.2em;position: relative;}#sk-container-id-11 div.sk-item {position: relative;z-index: 1;}#sk-container-id-11 div.sk-parallel {display: flex;align-items: stretch;justify-content: center;background-color: white;position: relative;}#sk-container-id-11 div.sk-item::before, #sk-container-id-11 div.sk-parallel-item::before {content: \"\";position: absolute;border-left: 1px solid gray;box-sizing: border-box;top: 0;bottom: 0;left: 50%;z-index: -1;}#sk-container-id-11 div.sk-parallel-item {display: flex;flex-direction: column;z-index: 1;position: relative;background-color: white;}#sk-container-id-11 div.sk-parallel-item:first-child::after {align-self: flex-end;width: 50%;}#sk-container-id-11 div.sk-parallel-item:last-child::after {align-self: flex-start;width: 50%;}#sk-container-id-11 div.sk-parallel-item:only-child::after {width: 0;}#sk-container-id-11 div.sk-dashed-wrapped {border: 1px dashed gray;margin: 0 0.4em 0.5em 0.4em;box-sizing: border-box;padding-bottom: 0.4em;background-color: white;}#sk-container-id-11 div.sk-label label {font-family: monospace;font-weight: bold;display: inline-block;line-height: 1.2em;}#sk-container-id-11 div.sk-label-container {text-align: center;}#sk-container-id-11 div.sk-container {/* jupyter's `normalize.less` sets `[hidden] { display: none; }` but bootstrap.min.css set `[hidden] { display: none !important; }` so we also need the `!important` here to be able to override the default hidden behavior on the sphinx rendered scikit-learn.org. See: https://github.com/scikit-learn/scikit-learn/issues/21755 */display: inline-block !important;position: relative;}#sk-container-id-11 div.sk-text-repr-fallback {display: none;}</style><div id=\"sk-container-id-11\" class=\"sk-top-container\"><div class=\"sk-text-repr-fallback\"><pre>XGBRFRegressor(base_score=None, booster=None, callbacks=None,\n",
       "               colsample_bylevel=None, colsample_bytree=None,\n",
       "               early_stopping_rounds=None, enable_categorical=False,\n",
       "               eval_metric=None, feature_types=None, gamma=None, gpu_id=None,\n",
       "               grow_policy=None, importance_type=None,\n",
       "               interaction_constraints=None, learning_rate=0.9, max_bin=None,\n",
       "               max_cat_threshold=None, max_cat_to_onehot=None,\n",
       "               max_delta_step=None, max_depth=None, max_leaves=None,\n",
       "               min_child_weight=None, missing=nan, monotone_constraints=None,\n",
       "               n_estimators=100, n_jobs=None, num_parallel_tree=None,\n",
       "               objective=&#x27;reg:squarederror&#x27;, predictor=None, random_state=None, ...)</pre><b>In a Jupyter environment, please rerun this cell to show the HTML representation or trust the notebook. <br />On GitHub, the HTML representation is unable to render, please try loading this page with nbviewer.org.</b></div><div class=\"sk-container\" hidden><div class=\"sk-item\"><div class=\"sk-estimator sk-toggleable\"><input class=\"sk-toggleable__control sk-hidden--visually\" id=\"sk-estimator-id-11\" type=\"checkbox\" checked><label for=\"sk-estimator-id-11\" class=\"sk-toggleable__label sk-toggleable__label-arrow\">XGBRFRegressor</label><div class=\"sk-toggleable__content\"><pre>XGBRFRegressor(base_score=None, booster=None, callbacks=None,\n",
       "               colsample_bylevel=None, colsample_bytree=None,\n",
       "               early_stopping_rounds=None, enable_categorical=False,\n",
       "               eval_metric=None, feature_types=None, gamma=None, gpu_id=None,\n",
       "               grow_policy=None, importance_type=None,\n",
       "               interaction_constraints=None, learning_rate=0.9, max_bin=None,\n",
       "               max_cat_threshold=None, max_cat_to_onehot=None,\n",
       "               max_delta_step=None, max_depth=None, max_leaves=None,\n",
       "               min_child_weight=None, missing=nan, monotone_constraints=None,\n",
       "               n_estimators=100, n_jobs=None, num_parallel_tree=None,\n",
       "               objective=&#x27;reg:squarederror&#x27;, predictor=None, random_state=None, ...)</pre></div></div></div></div></div>"
      ],
      "text/plain": [
       "XGBRFRegressor(base_score=None, booster=None, callbacks=None,\n",
       "               colsample_bylevel=None, colsample_bytree=None,\n",
       "               early_stopping_rounds=None, enable_categorical=False,\n",
       "               eval_metric=None, feature_types=None, gamma=None, gpu_id=None,\n",
       "               grow_policy=None, importance_type=None,\n",
       "               interaction_constraints=None, learning_rate=0.9, max_bin=None,\n",
       "               max_cat_threshold=None, max_cat_to_onehot=None,\n",
       "               max_delta_step=None, max_depth=None, max_leaves=None,\n",
       "               min_child_weight=None, missing=nan, monotone_constraints=None,\n",
       "               n_estimators=100, n_jobs=None, num_parallel_tree=None,\n",
       "               objective='reg:squarederror', predictor=None, random_state=None, ...)"
      ]
     },
     "execution_count": 79,
     "metadata": {},
     "output_type": "execute_result"
    }
   ],
   "source": [
    "regression_model = xgb.XGBRFRegressor(learning_rate=0.9, subsample=0.8, colsample_bynode=0.8, reg_lambda=1e-9)\n",
    "regression_model.fit(train_data_1, y_train)"
   ]
  },
  {
   "cell_type": "code",
   "execution_count": 80,
   "metadata": {},
   "outputs": [
    {
     "name": "stdout",
     "output_type": "stream",
     "text": [
      "Mean Squared Error (MSE): 3.787098727140208e+16\n",
      "Mean Absolute Error (MAE): 173145427.06779662\n",
      "Mean Absolute Percentage Error (MAPE): 0.8032742568531692\n",
      "R-squared Score: -3.5869665180150045\n"
     ]
    }
   ],
   "source": [
    "y_pred = regression_model.predict(test_data_1)\n",
    "\n",
    "mse = mean_squared_error(y_test, y_pred)\n",
    "r2 = r2_score(y_test, y_pred)\n",
    "mae = mean_absolute_error(y_test, y_pred)\n",
    "mape = mean_absolute_percentage_error(y_test, y_pred)\n",
    "\n",
    "print(\"Mean Squared Error (MSE):\", mse)\n",
    "print(\"Mean Absolute Error (MAE):\", mae)\n",
    "print(\"Mean Absolute Percentage Error (MAPE):\", mape)\n",
    "print(\"R-squared Score:\", r2)"
   ]
  },
  {
   "cell_type": "markdown",
   "metadata": {},
   "source": [
    "## TRied to make it better, but tired of waiting"
   ]
  },
  {
   "cell_type": "markdown",
   "metadata": {},
   "source": [
    "param_grid = {\n",
    "    'n_estimators': [100, 200, 300, 500, 1000],  # [50, 100, 200],\n",
    "    'max_depth': [None, 5, 10],\n",
    "    'min_samples_split': [2, 5, 10],\n",
    "    'min_samples_leaf': [1, 2, 4]\n",
    "}\n",
    "\n",
    "regression_model = RandomForestRegressor()\n",
    "\n",
    "grid_search = GridSearchCV(regression_model, param_grid, scoring='neg_mean_squared_error', cv=5)\n",
    "grid_search.fit(data_encoded, y_train)\n",
    "\n",
    "best_regression_model = grid_search.best_estimator_\n",
    "\n",
    "best_regression_model.fit(data_encoded, y_train)\n",
    "\n",
    "mse_scores = cross_val_score(best_regression_model, data_encoded, \n",
    "                             y_train, scoring='neg_mean_squared_error', cv=5)\n",
    "mse_mean = -mse_scores.mean()\n",
    "\n",
    "y_pred = best_regression_model.predict(X_test_encoded)\n",
    "\n",
    "mse = mean_squared_error(y_test, y_pred)\n",
    "r2 = r2_score(y_test, y_pred)\n",
    "mae = mean_absolute_error(y_test, y_pred)\n",
    "mape = mean_absolute_percentage_error(y_test, y_pred)\n",
    "\n",
    "print(\"Mean Squared Error (MSE):\", mse)\n",
    "print(\"Mean Absolute Error (MAE):\", mae)\n",
    "print(\"Mean Absolute Percentage Error (MAPE):\", mape)\n",
    "print(\"R-squared Score:\", r2)"
   ]
  },
  {
   "cell_type": "markdown",
   "metadata": {},
   "source": [
    "param_grid = {\n",
    "    'n_estimators': [100, 200, 500],\n",
    "    'learning_rate': [0.1, 0.01, 0.001],\n",
    "    'subsample': [0.8, 0.9, 1.0],\n",
    "    'colsample_bynode': [0.8, 0.9, 1.0],\n",
    "    'reg_lambda': [1e-5, 1e-4, 1e-3]\n",
    "}\n",
    "\n",
    "regression_model = xgb.XGBRFRegressor()\n",
    "\n",
    "grid_search = GridSearchCV(regression_model, param_grid, scoring='neg_mean_squared_error', cv=5)\n",
    "grid_search.fit(data_encoded, y_train)\n",
    "\n",
    "best_regression_model = grid_search.best_estimator_\n",
    "\n",
    "best_regression_model.fit(data_encoded, y_train)\n",
    "\n",
    "mse_scores = cross_val_score(best_regression_model, data_encoded, y_train, scoring='neg_mean_squared_error', cv=5)\n",
    "mse_mean = -mse_scores.mean()\n",
    "\n",
    "y_pred = best_regression_model.predict(X_test_encoded)\n",
    "\n",
    "mse = mean_squared_error(y_test, y_pred)\n",
    "r2 = r2_score(y_test, y_pred)\n",
    "mae = mean_absolute_error(y_test, y_pred)\n",
    "mape = mean_absolute_percentage_error(y_test, y_pred)\n",
    "\n",
    "print(\"Mean Squared Error (MSE):\", mse)\n",
    "print(\"Mean Absolute Error (MAE):\", mae)\n",
    "print(\"Mean Absolute Percentage Error (MAPE):\", mape)\n",
    "print(\"R-squared Score:\", r2)"
   ]
  },
  {
   "cell_type": "markdown",
   "metadata": {},
   "source": [
    "Mean Squared Error (MSE): 5.066125921522722e+16\n",
    "Mean Absolute Error (MAE): 205987429.9751816\n",
    "Mean Absolute Percentage Error (MAPE): 0.9770687195402262\n",
    "R-squared Score: -5.136135245573781"
   ]
  },
  {
   "cell_type": "markdown",
   "metadata": {},
   "source": [
    "param_grid = {\n",
    "    'n_estimators': [50, 100, 200],\n",
    "    'learning_rate': [0.1, 0.01, 0.001],\n",
    "    'subsample': [0.8, 0.9, 1.0],\n",
    "    'colsample_bynode': [0.8, 0.9, 1.0],\n",
    "    'reg_lambda': [1e-5, 1e-4, 1e-3]\n",
    "}\n",
    "\n",
    "regression_model = xgb.XGBRFRegressor()\n",
    "\n",
    "grid_search = GridSearchCV(regression_model, param_grid, scoring='neg_mean_squared_error', cv=5)\n",
    "grid_search.fit(data_encoded, y_train)\n",
    "\n",
    "best_regression_model = grid_search.best_estimator_\n",
    "\n",
    "best_regression_model.fit(data_encoded, y_train)\n",
    "\n",
    "mse_scores = cross_val_score(best_regression_model, data_encoded, y_train, scoring='neg_mean_squared_error', cv=5)\n",
    "mse_mean = -mse_scores.mean()\n",
    "\n",
    "y_pred = best_regression_model.predict(X_test_encoded)\n",
    "\n",
    "mse = mean_squared_error(y_test, y_pred)\n",
    "r2 = r2_score(y_test, y_pred)\n",
    "mae = mean_absolute_error(y_test, y_pred)\n",
    "mape = mean_absolute_percentage_error(y_test, y_pred)\n",
    "\n",
    "print(\"Mean Squared Error (MSE):\", mse)\n",
    "print(\"Mean Absolute Error (MAE):\", mae)\n",
    "print(\"Mean Absolute Percentage Error (MAPE):\", mape)\n",
    "print(\"R-squared Score:\", r2)"
   ]
  },
  {
   "cell_type": "markdown",
   "metadata": {},
   "source": [
    "Mean Squared Error (MSE): 5.06617276369964e+16\n",
    "Mean Absolute Error (MAE): 205990957.03177965\n",
    "Mean Absolute Percentage Error (MAPE): 0.9770913413548851\n",
    "R-squared Score: -5.136191981220946"
   ]
  },
  {
   "cell_type": "markdown",
   "metadata": {},
   "source": [
    "param_grid = {\n",
    "    'n_estimators': [100, 300, 1000],\n",
    "    'learning_rate': [0.1, 0.01, 0.001],\n",
    "    'subsample': [0.8, 0.9, 1.0],\n",
    "    'colsample_bynode': [0.8, 0.9, 1.0],\n",
    "    'reg_lambda': [1e-5, 1e-4, 1e-3]\n",
    "}\n",
    "\n",
    "regression_model = xgb.XGBRFRegressor()\n",
    "\n",
    "grid_search = GridSearchCV(regression_model, param_grid, scoring='neg_mean_squared_error', cv=5)\n",
    "grid_search.fit(data_encoded, y_train)\n",
    "\n",
    "best_regression_model = grid_search.best_estimator_\n",
    "\n",
    "best_regression_model.fit(data_encoded, y_train)\n",
    "\n",
    "mse_scores = cross_val_score(best_regression_model, data_encoded, y_train, scoring='neg_mean_squared_error', cv=5)\n",
    "mse_mean = -mse_scores.mean()\n",
    "\n",
    "y_pred = best_regression_model.predict(X_test_encoded)\n",
    "\n",
    "mse = mean_squared_error(y_test, y_pred)\n",
    "r2 = r2_score(y_test, y_pred)\n",
    "mae = mean_absolute_error(y_test, y_pred)\n",
    "mape = mean_absolute_percentage_error(y_test, y_pred)\n",
    "\n",
    "print(\"Mean Squared Error (MSE):\", mse)\n",
    "print(\"Mean Absolute Error (MAE):\", mae)\n",
    "print(\"Mean Absolute Percentage Error (MAPE):\", mape)\n",
    "print(\"R-squared Score:\", r2)"
   ]
  },
  {
   "cell_type": "markdown",
   "metadata": {},
   "source": [
    "Mean Squared Error (MSE): 5.066095895413197e+16\n",
    "Mean Absolute Error (MAE): 205987068.51846248\n",
    "Mean Absolute Percentage Error (MAPE): 0.9770667590316227\n",
    "R-squared Score: -5.136098877691934"
   ]
  },
  {
   "cell_type": "code",
   "execution_count": null,
   "metadata": {},
   "outputs": [],
   "source": []
  },
  {
   "cell_type": "code",
   "execution_count": null,
   "metadata": {},
   "outputs": [],
   "source": []
  },
  {
   "cell_type": "code",
   "execution_count": null,
   "metadata": {},
   "outputs": [],
   "source": []
  },
  {
   "cell_type": "code",
   "execution_count": null,
   "metadata": {},
   "outputs": [],
   "source": []
  },
  {
   "cell_type": "code",
   "execution_count": null,
   "metadata": {},
   "outputs": [],
   "source": []
  },
  {
   "cell_type": "code",
   "execution_count": null,
   "metadata": {},
   "outputs": [],
   "source": []
  },
  {
   "cell_type": "code",
   "execution_count": null,
   "metadata": {},
   "outputs": [],
   "source": []
  },
  {
   "cell_type": "code",
   "execution_count": null,
   "metadata": {},
   "outputs": [],
   "source": []
  }
 ],
 "metadata": {
  "colab": {
   "collapsed_sections": [
    "0J80Wl33GsNi"
   ],
   "provenance": []
  },
  "kernelspec": {
   "display_name": "Python 3 (ipykernel)",
   "language": "python",
   "name": "python3"
  },
  "language_info": {
   "codemirror_mode": {
    "name": "ipython",
    "version": 3
   },
   "file_extension": ".py",
   "mimetype": "text/x-python",
   "name": "python",
   "nbconvert_exporter": "python",
   "pygments_lexer": "ipython3",
   "version": "3.10.9"
  }
 },
 "nbformat": 4,
 "nbformat_minor": 1
}
